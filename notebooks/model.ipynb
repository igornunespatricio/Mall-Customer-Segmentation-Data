{
 "cells": [
  {
   "cell_type": "code",
   "execution_count": 20,
   "metadata": {},
   "outputs": [],
   "source": [
    "import os\n",
    "# need to run this because of memory leak in windows\n",
    "os.environ[\"OMP_NUM_THREADS\"] = \"1\""
   ]
  },
  {
   "cell_type": "code",
   "execution_count": 21,
   "metadata": {},
   "outputs": [],
   "source": [
    "import pandas as pd\n",
    "from itertools import product\n",
    "import sklearn\n",
    "import numpy as np\n",
    "import matplotlib\n",
    "from matplotlib import pyplot as plt\n",
    "import plotly.graph_objs as go\n",
    "import seaborn as sns\n",
    "import warnings\n",
    "from sklearn.compose import ColumnTransformer\n",
    "from sklearn.compose import make_column_selector as selector\n",
    "from sklearn.impute import SimpleImputer\n",
    "from sklearn.pipeline import Pipeline\n",
    "from sklearn.preprocessing import StandardScaler, OneHotEncoder, MinMaxScaler, RobustScaler\n",
    "from sklearn.decomposition import PCA\n",
    "from sklearn.cluster import KMeans\n",
    "from sklearn.metrics import silhouette_score\n",
    "\n",
    "import joblib\n",
    "\n",
    "RANDOM_STATE = 42\n",
    "np.random.seed(RANDOM_STATE)\n"
   ]
  },
  {
   "cell_type": "code",
   "execution_count": 22,
   "metadata": {},
   "outputs": [],
   "source": [
    "warnings.simplefilter(action='ignore', category=FutureWarning)"
   ]
  },
  {
   "cell_type": "code",
   "execution_count": 23,
   "metadata": {},
   "outputs": [],
   "source": [
    "DATA_PATH = '../data/'\n",
    "df = pd.read_csv(DATA_PATH + 'Mall_Customers.csv')"
   ]
  },
  {
   "cell_type": "code",
   "execution_count": 24,
   "metadata": {},
   "outputs": [
    {
     "name": "stdout",
     "output_type": "stream",
     "text": [
      "<class 'pandas.core.frame.DataFrame'>\n",
      "RangeIndex: 200 entries, 0 to 199\n",
      "Data columns (total 5 columns):\n",
      " #   Column                  Non-Null Count  Dtype \n",
      "---  ------                  --------------  ----- \n",
      " 0   CustomerID              200 non-null    int64 \n",
      " 1   Gender                  200 non-null    object\n",
      " 2   Age                     200 non-null    int64 \n",
      " 3   Annual Income (k$)      200 non-null    int64 \n",
      " 4   Spending Score (1-100)  200 non-null    int64 \n",
      "dtypes: int64(4), object(1)\n",
      "memory usage: 7.9+ KB\n"
     ]
    }
   ],
   "source": [
    "df.info()"
   ]
  },
  {
   "cell_type": "markdown",
   "metadata": {},
   "source": [
    "Removing the CustomerID as this information is not relevant for clustering"
   ]
  },
  {
   "cell_type": "code",
   "execution_count": 25,
   "metadata": {},
   "outputs": [],
   "source": [
    "df = df.drop('CustomerID', axis=1)"
   ]
  },
  {
   "cell_type": "code",
   "execution_count": 26,
   "metadata": {},
   "outputs": [
    {
     "data": {
      "text/html": [
       "<div>\n",
       "<style scoped>\n",
       "    .dataframe tbody tr th:only-of-type {\n",
       "        vertical-align: middle;\n",
       "    }\n",
       "\n",
       "    .dataframe tbody tr th {\n",
       "        vertical-align: top;\n",
       "    }\n",
       "\n",
       "    .dataframe thead th {\n",
       "        text-align: right;\n",
       "    }\n",
       "</style>\n",
       "<table border=\"1\" class=\"dataframe\">\n",
       "  <thead>\n",
       "    <tr style=\"text-align: right;\">\n",
       "      <th></th>\n",
       "      <th>Gender</th>\n",
       "      <th>Age</th>\n",
       "      <th>Annual Income (k$)</th>\n",
       "      <th>Spending Score (1-100)</th>\n",
       "    </tr>\n",
       "  </thead>\n",
       "  <tbody>\n",
       "    <tr>\n",
       "      <th>0</th>\n",
       "      <td>Male</td>\n",
       "      <td>19</td>\n",
       "      <td>15</td>\n",
       "      <td>39</td>\n",
       "    </tr>\n",
       "    <tr>\n",
       "      <th>1</th>\n",
       "      <td>Male</td>\n",
       "      <td>21</td>\n",
       "      <td>15</td>\n",
       "      <td>81</td>\n",
       "    </tr>\n",
       "    <tr>\n",
       "      <th>2</th>\n",
       "      <td>Female</td>\n",
       "      <td>20</td>\n",
       "      <td>16</td>\n",
       "      <td>6</td>\n",
       "    </tr>\n",
       "    <tr>\n",
       "      <th>3</th>\n",
       "      <td>Female</td>\n",
       "      <td>23</td>\n",
       "      <td>16</td>\n",
       "      <td>77</td>\n",
       "    </tr>\n",
       "    <tr>\n",
       "      <th>4</th>\n",
       "      <td>Female</td>\n",
       "      <td>31</td>\n",
       "      <td>17</td>\n",
       "      <td>40</td>\n",
       "    </tr>\n",
       "  </tbody>\n",
       "</table>\n",
       "</div>"
      ],
      "text/plain": [
       "   Gender  Age  Annual Income (k$)  Spending Score (1-100)\n",
       "0    Male   19                  15                      39\n",
       "1    Male   21                  15                      81\n",
       "2  Female   20                  16                       6\n",
       "3  Female   23                  16                      77\n",
       "4  Female   31                  17                      40"
      ]
     },
     "execution_count": 26,
     "metadata": {},
     "output_type": "execute_result"
    }
   ],
   "source": [
    "df.head(5)"
   ]
  },
  {
   "cell_type": "markdown",
   "metadata": {},
   "source": [
    "Creating the pipeline"
   ]
  },
  {
   "cell_type": "code",
   "execution_count": 27,
   "metadata": {},
   "outputs": [],
   "source": [
    "def pipe_func(df, scaler, cluster):\n",
    "    # Pipeline for numeric columns\n",
    "    numeric_pipeline = Pipeline([\n",
    "        ('imputer', SimpleImputer(strategy='median')),  # Handle missing values if any\n",
    "        ('scaler', scaler)  # Standardize to mean=0, std=1\n",
    "    ])\n",
    "\n",
    "    # Pipeline for categorical columns\n",
    "    categorical_pipeline = Pipeline([\n",
    "        ('imputer', SimpleImputer(strategy='most_frequent')),  # Handle missing values if any\n",
    "        ('binary', (OneHotEncoder(drop='if_binary')))\n",
    "    ])\n",
    "\n",
    "    # Combine both pipelines using ColumnTransformer\n",
    "    preprocessor = ColumnTransformer(\n",
    "        [\n",
    "            ('numeric', numeric_pipeline, selector(dtype_exclude=\"object\")),\n",
    "            ('categorical', categorical_pipeline, selector(dtype_include=\"object\")),\n",
    "        ],\n",
    "        verbose_feature_names_out=False\n",
    "    )\n",
    "\n",
    "    # Create pca pipeline\n",
    "    pca = Pipeline([\n",
    "        ('preprocessor', preprocessor),\n",
    "        ('pca', PCA(n_components=3, random_state=RANDOM_STATE))\n",
    "    ])\n",
    "    \n",
    "    # Create final pipeline\n",
    "    pipe = Pipeline(\n",
    "        [\n",
    "            ('processed_features', pca),\n",
    "            ('clustering', cluster)\n",
    "        ]\n",
    "    )\n",
    "\n",
    "    pipe.fit(df)\n",
    "\n",
    "    pred_labels = pipe.named_steps['clustering'].labels_\n",
    "    inertia = pipe.named_steps['clustering'].inertia_\n",
    "    sil_score = silhouette_score(pipe.named_steps['processed_features'].transform(df), labels=pred_labels)\n",
    "\n",
    "    return pipe, inertia, sil_score"
   ]
  },
  {
   "cell_type": "code",
   "execution_count": 28,
   "metadata": {},
   "outputs": [],
   "source": [
    "scaler_opts = {\n",
    "    # 'passthrough': 'passthrough',\n",
    "    'standard': StandardScaler(), \n",
    "    'minMax': MinMaxScaler(feature_range=(-1,1)),\n",
    "    'robust': RobustScaler()\n",
    "}\n",
    "\n",
    "number_of_clusters = np.arange(2, 10).tolist()\n",
    "\n",
    "clustering_alg = {\n",
    "    f'Kmeans_{value}': KMeans(value, n_init='auto', random_state=RANDOM_STATE) for value in number_of_clusters \n",
    "}\n",
    "\n",
    "\n",
    "cart_prod_hyperparam = list(product(list(scaler_opts.keys()), list(clustering_alg.keys())))\n",
    "\n",
    "inertia_vals = []\n",
    "sil_vals = []\n",
    "\n",
    "for scaler, cluster in cart_prod_hyperparam:\n",
    "    pipe, inertia, sil_score = pipe_func(df=df, scaler=scaler_opts[scaler], cluster=clustering_alg[cluster])\n",
    "    inertia_vals.append(inertia)\n",
    "    sil_vals.append(sil_score)"
   ]
  },
  {
   "cell_type": "code",
   "execution_count": 29,
   "metadata": {},
   "outputs": [
    {
     "data": {
      "text/html": [
       "<div>\n",
       "<style scoped>\n",
       "    .dataframe tbody tr th:only-of-type {\n",
       "        vertical-align: middle;\n",
       "    }\n",
       "\n",
       "    .dataframe tbody tr th {\n",
       "        vertical-align: top;\n",
       "    }\n",
       "\n",
       "    .dataframe thead th {\n",
       "        text-align: right;\n",
       "    }\n",
       "</style>\n",
       "<table border=\"1\" class=\"dataframe\">\n",
       "  <thead>\n",
       "    <tr style=\"text-align: right;\">\n",
       "      <th></th>\n",
       "      <th>Scaler</th>\n",
       "      <th>Cluster</th>\n",
       "      <th>Measure</th>\n",
       "      <th>Value</th>\n",
       "      <th>Number of Clusters</th>\n",
       "    </tr>\n",
       "  </thead>\n",
       "  <tbody>\n",
       "    <tr>\n",
       "      <th>0</th>\n",
       "      <td>standard</td>\n",
       "      <td>Kmeans_2</td>\n",
       "      <td>Inertia</td>\n",
       "      <td>389.816186</td>\n",
       "      <td>2</td>\n",
       "    </tr>\n",
       "    <tr>\n",
       "      <th>1</th>\n",
       "      <td>standard</td>\n",
       "      <td>Kmeans_3</td>\n",
       "      <td>Inertia</td>\n",
       "      <td>296.124136</td>\n",
       "      <td>3</td>\n",
       "    </tr>\n",
       "    <tr>\n",
       "      <th>2</th>\n",
       "      <td>standard</td>\n",
       "      <td>Kmeans_4</td>\n",
       "      <td>Inertia</td>\n",
       "      <td>205.683744</td>\n",
       "      <td>4</td>\n",
       "    </tr>\n",
       "    <tr>\n",
       "      <th>3</th>\n",
       "      <td>standard</td>\n",
       "      <td>Kmeans_5</td>\n",
       "      <td>Inertia</td>\n",
       "      <td>168.673822</td>\n",
       "      <td>5</td>\n",
       "    </tr>\n",
       "    <tr>\n",
       "      <th>4</th>\n",
       "      <td>standard</td>\n",
       "      <td>Kmeans_6</td>\n",
       "      <td>Inertia</td>\n",
       "      <td>157.762036</td>\n",
       "      <td>6</td>\n",
       "    </tr>\n",
       "  </tbody>\n",
       "</table>\n",
       "</div>"
      ],
      "text/plain": [
       "     Scaler   Cluster  Measure       Value Number of Clusters\n",
       "0  standard  Kmeans_2  Inertia  389.816186                  2\n",
       "1  standard  Kmeans_3  Inertia  296.124136                  3\n",
       "2  standard  Kmeans_4  Inertia  205.683744                  4\n",
       "3  standard  Kmeans_5  Inertia  168.673822                  5\n",
       "4  standard  Kmeans_6  Inertia  157.762036                  6"
      ]
     },
     "execution_count": 29,
     "metadata": {},
     "output_type": "execute_result"
    }
   ],
   "source": [
    "results = pd.DataFrame(\n",
    "    {\n",
    "        \"Scaler\": [scaler for scaler, _ in cart_prod_hyperparam],\n",
    "        \"Cluster\": [cluster for _, cluster in cart_prod_hyperparam],\n",
    "        \"Inertia\": inertia_vals,\n",
    "        \"Silhouette\": sil_vals\n",
    "    }\n",
    ")\n",
    "results = results.melt(id_vars=['Scaler', 'Cluster'], value_vars=['Inertia', 'Silhouette'], var_name='Measure', value_name='Value')\n",
    "results['Number of Clusters'] = results['Cluster'].apply(lambda x: x.split('_')[1])\n",
    "results.head(5)"
   ]
  },
  {
   "cell_type": "code",
   "execution_count": 30,
   "metadata": {},
   "outputs": [
    {
     "data": {
      "image/png": "[encoded data removed]",
      "text/plain": [
       "<Figure size 1200x900 with 6 Axes>"
      ]
     },
     "metadata": {},
     "output_type": "display_data"
    }
   ],
   "source": [
    "sns.relplot(\n",
    "    data=results, x=\"Number of Clusters\", y=\"Value\", col=\"Measure\",\n",
    "    row=\"Scaler\", kind=\"line\", facet_kws={\"sharey\": False, \"sharex\": False},\n",
    "    height=3, aspect=2\n",
    ");"
   ]
  },
  {
   "cell_type": "markdown",
   "metadata": {},
   "source": [
    "Depending on the scale technique the number of clusters will change.\n",
    "\n",
    "- If using Standard scaler, the number of clusters might be 8 (or 5?)\n",
    "- If using the MinMax scaler, the number of clusters would be 6\n",
    "- And if using the Robust scaler, the number of clusters would be 6\n",
    "\n",
    "As seen in the exploratory data analysis, a starting point was 5 clusters. But using the robust scaler as there were some outliers, I'm going to consider 6 clusters for subsequent analysis."
   ]
  },
  {
   "cell_type": "code",
   "execution_count": 31,
   "metadata": {},
   "outputs": [
    {
     "data": {
      "text/html": [
       "<div>\n",
       "<style scoped>\n",
       "    .dataframe tbody tr th:only-of-type {\n",
       "        vertical-align: middle;\n",
       "    }\n",
       "\n",
       "    .dataframe tbody tr th {\n",
       "        vertical-align: top;\n",
       "    }\n",
       "\n",
       "    .dataframe thead th {\n",
       "        text-align: right;\n",
       "    }\n",
       "</style>\n",
       "<table border=\"1\" class=\"dataframe\">\n",
       "  <thead>\n",
       "    <tr style=\"text-align: right;\">\n",
       "      <th></th>\n",
       "      <th>pca0</th>\n",
       "      <th>pca1</th>\n",
       "      <th>pca2</th>\n",
       "      <th>label</th>\n",
       "    </tr>\n",
       "  </thead>\n",
       "  <tbody>\n",
       "    <tr>\n",
       "      <th>0</th>\n",
       "      <td>-0.396602</td>\n",
       "      <td>-1.222923</td>\n",
       "      <td>0.886938</td>\n",
       "      <td>2</td>\n",
       "    </tr>\n",
       "    <tr>\n",
       "      <th>1</th>\n",
       "      <td>-1.071812</td>\n",
       "      <td>-1.263034</td>\n",
       "      <td>0.017872</td>\n",
       "      <td>2</td>\n",
       "    </tr>\n",
       "    <tr>\n",
       "      <th>2</th>\n",
       "      <td>0.151609</td>\n",
       "      <td>-1.239214</td>\n",
       "      <td>1.484344</td>\n",
       "      <td>5</td>\n",
       "    </tr>\n",
       "    <tr>\n",
       "      <th>3</th>\n",
       "      <td>-1.003489</td>\n",
       "      <td>-1.307731</td>\n",
       "      <td>0.028066</td>\n",
       "      <td>2</td>\n",
       "    </tr>\n",
       "    <tr>\n",
       "      <th>4</th>\n",
       "      <td>-0.059971</td>\n",
       "      <td>-1.226931</td>\n",
       "      <td>0.464117</td>\n",
       "      <td>5</td>\n",
       "    </tr>\n",
       "  </tbody>\n",
       "</table>\n",
       "</div>"
      ],
      "text/plain": [
       "       pca0      pca1      pca2  label\n",
       "0 -0.396602 -1.222923  0.886938      2\n",
       "1 -1.071812 -1.263034  0.017872      2\n",
       "2  0.151609 -1.239214  1.484344      5\n",
       "3 -1.003489 -1.307731  0.028066      2\n",
       "4 -0.059971 -1.226931  0.464117      5"
      ]
     },
     "execution_count": 31,
     "metadata": {},
     "output_type": "execute_result"
    }
   ],
   "source": [
    "pipe, _, _ = pipe_func(df, RobustScaler(), cluster=KMeans(n_clusters=6))\n",
    "\n",
    "df_with_label =  pd.DataFrame(pipe.named_steps['processed_features'].transform(df), columns = pipe.named_steps['processed_features'].get_feature_names_out())\n",
    "df_with_label['label'] = pipe.named_steps['clustering'].labels_\n",
    "df_with_label.head(5)"
   ]
  },
  {
   "cell_type": "code",
   "execution_count": 38,
   "metadata": {},
   "outputs": [
    {
     "data": {
      "application/vnd.plotly.v1+json": {
       "config": {
        "plotlyServerURL": "https://plot.ly"
       },
       "data": [
        {
         "marker": {
          "color": [
           2,
           2,
           5,
           2,
           5,
           2,
           5,
           2,
           5,
           2,
           5,
           2,
           5,
           2,
           5,
           2,
           5,
           2,
           5,
           2,
           5,
           2,
           5,
           2,
           5,
           2,
           5,
           2,
           5,
           2,
           5,
           2,
           5,
           2,
           5,
           2,
           5,
           2,
           5,
           2,
           0,
           2,
           5,
           2,
           5,
           2,
           0,
           1,
           1,
           1,
           0,
           1,
           1,
           0,
           0,
           0,
           0,
           0,
           1,
           0,
           0,
           1,
           0,
           0,
           0,
           1,
           0,
           0,
           1,
           1,
           0,
           0,
           0,
           0,
           0,
           1,
           0,
           1,
           1,
           0,
           0,
           1,
           0,
           0,
           1,
           0,
           0,
           1,
           1,
           0,
           0,
           1,
           0,
           1,
           1,
           1,
           0,
           1,
           0,
           1,
           1,
           0,
           0,
           1,
           0,
           1,
           0,
           0,
           0,
           0,
           0,
           1,
           1,
           1,
           1,
           1,
           0,
           0,
           0,
           0,
           1,
           1,
           1,
           4,
           1,
           4,
           3,
           4,
           3,
           4,
           3,
           4,
           1,
           4,
           3,
           4,
           3,
           4,
           3,
           4,
           3,
           4,
           1,
           4,
           3,
           4,
           3,
           4,
           3,
           4,
           3,
           4,
           3,
           4,
           3,
           4,
           3,
           4,
           3,
           4,
           0,
           4,
           3,
           4,
           3,
           4,
           3,
           4,
           3,
           4,
           3,
           4,
           3,
           4,
           3,
           4,
           3,
           4,
           3,
           4,
           3,
           4,
           3,
           4,
           3,
           4,
           3,
           4,
           3,
           4,
           3,
           4,
           3,
           4,
           3,
           4,
           3,
           4,
           3,
           4
          ],
          "colorbar": {
           "ticktext": [
            "Cluster 0",
            "Cluster 1",
            "Cluster 2",
            "Cluster 3",
            "Cluster 4",
            "Cluster 5"
           ],
           "tickvals": [
            0,
            1,
            2,
            3,
            4,
            5
           ],
           "title": {
            "text": "Cluster"
           }
          },
          "colorscale": [
           [
            0,
            "#440154"
           ],
           [
            0.2,
            "#414487"
           ],
           [
            0.4,
            "#2a788e"
           ],
           [
            0.6,
            "#22a884"
           ],
           [
            0.8,
            "#7ad151"
           ],
           [
            1,
            "#fde725"
           ]
          ],
          "size": 5
         },
         "mode": "markers",
         "showlegend": false,
         "type": "scatter3d",
         "x": [
          -0.39660221816135943,
          -1.0718117685793116,
          0.15160909943253198,
          -1.003488916544754,
          -0.059970664771169156,
          -1.0232564789941954,
          0.6866315552781795,
          -1.3091679821043105,
          1.8520679795172394,
          -0.6683215616983594,
          1.7640976411676368,
          -0.969079456827252,
          1.3487041551653782,
          -0.974251451714134,
          0.70352263185752,
          -1.0086664929436253,
          0.16586384241056323,
          -0.8508984318282432,
          0.9523145952199289,
          -0.9579464426635503,
          0.2338102123425174,
          -0.8009364364288111,
          1.087564265662154,
          -0.5872600764470568,
          1.2096250743561354,
          -0.8240983873602048,
          0.5664775634214141,
          -0.23526422842623812,
          0.403150353129121,
          -1.202963982655503,
          1.6724286407728375,
          -1.0274104602463259,
          1.4162099217002773,
          -1.4050575907786105,
          1.0218599556399546,
          -1.1746834859442534,
          0.7156110762510567,
          -0.7110536997300025,
          0.335213117495057,
          -1.110513077272291,
          1.2142883009290564,
          -1.198033677926949,
          0.6576469298001425,
          -0.4700538111563692,
          0.7628848268316892,
          -0.7924250400565386,
          0.31690417207742166,
          -0.36628011266861815,
          -0.20557298227821869,
          -0.1337931583567928,
          0.33104442043304644,
          -0.31254215600919444,
          -0.3522080292298991,
          0.6189324431868186,
          0.4897694496677992,
          0.5261772642403629,
          0.4350689433770153,
          1.225164909124551,
          -0.44740062853893636,
          0.6476000941880974,
          1.0798739845822702,
          -0.7327260641202948,
          0.9687472768132632,
          0.37768019226743205,
          0.9142456837612069,
          -0.8430840448212331,
          0.14129720056121886,
          1.0741159221666314,
          -0.8071941328605201,
          -0.20013544712523929,
          1.092670110528495,
          0.42547742697190516,
          0.7658849416220869,
          0.6413867125655238,
          0.8318492103983944,
          -0.47701611336169547,
          0.14974196990612124,
          0.13215542185105397,
          -0.6220506319357687,
          0.48894169198071485,
          0.6889275413017898,
          -0.0641226311269349,
          1.2256812738468665,
          0.3457010335109866,
          -0.782757762326168,
          0.45484564012434686,
          0.41472444769670735,
          -0.7162862631254354,
          -0.37619773784837696,
          0.447037311636156,
          0.9313234635023129,
          -0.5412399711406838,
          0.39151058554782336,
          0.1915247362267485,
          -0.1311654820465444,
          -0.5232036853906712,
          0.31825589089517603,
          -0.45289873220046684,
          0.5143457028218632,
          -0.615070061134662,
          -0.43971545196421263,
          0.36892402995776075,
          0.8922380762983757,
          -0.5081064689156759,
          0.29957604488692685,
          -0.5292807371794331,
          0.9418184989197679,
          0.6552171058459155,
          1.2110322571772805,
          1.0503251267868812,
          0.9432933696509894,
          -0.8161492084089189,
          0.07752154258764031,
          -0.6025929245615604,
          -0.74865257617191,
          -0.7483335867987864,
          0.9553207685291458,
          0.16829462037844917,
          0.521315601435544,
          0.2364292313617051,
          -0.4983175771613739,
          0.10810312982766006,
          -0.14358157310426542,
          -0.6934560024806802,
          -0.2395948106988618,
          -0.8061776571153048,
          0.4427632542496292,
          -0.7320341592601926,
          1.4438529166721092,
          -0.4481047573057241,
          1.0487448957311436,
          -0.4122148453450112,
          -0.26006851681145593,
          -0.7027911129175829,
          0.14753289440202677,
          -1.078586890616042,
          0.9003841535920238,
          -0.6311995300474587,
          0.02105256418981701,
          -0.5803431499335723,
          1.3991977081038351,
          -0.9902349794883996,
          -0.26576399582217836,
          -0.9581210287876782,
          0.19583177801893553,
          -1.2082626960714766,
          0.5944486820642598,
          -0.7285731437508702,
          0.26638755566535766,
          -0.8700881070331592,
          0.7512597750602715,
          -0.6550676246420051,
          0.6608575978600765,
          -0.5504677063567053,
          0.839669178917394,
          -1.1764677347438788,
          0.8204876839967092,
          -0.8731579246299981,
          0.7128179481145704,
          -0.7842306181610246,
          0.8230915101991877,
          -0.9996382548422079,
          0.098338088181128,
          -1.1090392674237757,
          0.830778224663447,
          -0.616103851461999,
          0.6487085849579886,
          -1.0811459250025552,
          0.23427206707510093,
          -0.47662848206483677,
          0.6997638783106025,
          -0.8336136654332251,
          0.609560614349135,
          -0.8488472117420318,
          1.0558440047771107,
          -1.032072732805588,
          1.3085482592333226,
          -0.764453921413693,
          1.3539080735752143,
          -0.8591448718102946,
          0.164603554741608,
          -0.9752609149268713,
          0.8612381978795352,
          -1.1201646851791227,
          0.18033874996285026,
          -1.1730713313655616,
          0.9103633012939928,
          -0.7323990013319872,
          0.5649664512962411,
          -0.8238944764853642,
          0.2070242998084823,
          -0.6828867436275006,
          0.49422089470898173,
          -0.8754585381519389,
          0.7698184840514185,
          -0.7813445209862038,
          0.47463445390931674,
          -0.7371299158149844,
          0.24056168702976413,
          -0.9872731209883183
         ],
         "y": [
          -1.222922874337409,
          -1.263033853943712,
          -1.2392142428023307,
          -1.307730973553748,
          -1.2269312231426686,
          -1.2812829151570082,
          -1.1567186056128285,
          -1.270938835008429,
          -0.9923962306270598,
          -1.2076597708330306,
          -0.9982860013137563,
          -1.2265221717646506,
          -1.0687054426770277,
          -1.196794139540267,
          -1.0258923832825404,
          -1.1227412326462456,
          -1.1051836371319583,
          -1.0856317284560626,
          -0.9328290468284686,
          -1.1164055013029255,
          -0.9435106066179596,
          -1.0018138101872909,
          -0.9442938608911088,
          -0.9633619109217909,
          -0.8569716692993253,
          -0.8946791815250156,
          -0.892535273294249,
          -0.8615760681853584,
          -0.8735429997755126,
          -0.963681914900766,
          -0.7009453567393631,
          -0.9255286280428378,
          -0.6321883144303837,
          -0.7892793068745029,
          -0.7299502906543542,
          -0.8520742235393154,
          -0.718861040245601,
          -0.7996802242733504,
          -0.657634095726829,
          -0.738602585958364,
          -0.5857054774225184,
          -0.6417545198150229,
          -0.5112997592047688,
          -0.6489497762984302,
          -0.580953916311819,
          -0.6661725305059173,
          -0.5800038801729476,
          -0.6145243818795034,
          -0.6055775761017751,
          -0.6018496836627735,
          -0.5242000344922223,
          -0.4825050706776842,
          -0.5325704098302325,
          -0.4067742470221681,
          -0.4877613876500089,
          -0.40930973096901613,
          -0.46384813282073983,
          -0.34625360553022994,
          -0.4550901808595146,
          -0.3215403011452529,
          -0.3002910420911926,
          -0.39430851661798866,
          -0.3543078927987324,
          -0.38584567232646044,
          -0.25358330839198145,
          -0.34581114961148085,
          -0.36968681478276616,
          -0.32100059395975516,
          -0.34394720339198004,
          -0.3870588751940391,
          -0.2174425935779622,
          -0.3266125466143051,
          -0.282419502486517,
          -0.28972598116073445,
          -0.09325463090803311,
          -0.1620713348257774,
          -0.20548093865603045,
          -0.1297133917462939,
          -0.24544397281730299,
          -0.18654354443282836,
          -0.10115765401801614,
          -0.140747762859513,
          -0.07208036514555453,
          -0.1942229484268215,
          -0.25439077859503134,
          -0.11271425665479669,
          -0.11025572395426401,
          -0.16863460119455476,
          -0.12421793795077672,
          -0.07978184109032883,
          -0.02835663120052735,
          -0.027072620158619182,
          0.04776372703293741,
          -0.037622163381874796,
          -0.05462129847337199,
          -0.00010233023831812284,
          -0.03188101851958656,
          -0.07229129091283885,
          0.08233842765564989,
          0.022841454835409704,
          -0.015816587884143887,
          0.025339535148659775,
          0.12727732242298942,
          0.05503065809443751,
          0.09685763847521084,
          -0.020588262990890862,
          0.0822072774931779,
          0.1438834181986634,
          0.17311001327491082,
          0.16416320749718247,
          0.15812413060670025,
          -0.009573325494341652,
          0.065635266637613,
          0.10591352246463004,
          0.049361868189619705,
          0.04913824907362981,
          0.13845836140588297,
          0.09566259164894603,
          0.17062745066886328,
          0.1541505471009276,
          0.19219193138866814,
          0.1495274978185888,
          0.18900374613516419,
          0.23256333654858066,
          0.21485457971676056,
          0.17966458142099026,
          0.35300739471731357,
          0.2847885959940902,
          0.40788131825521495,
          0.30193635690999554,
          0.3876015289566959,
          0.30380030312949635,
          0.26790000271402553,
          0.24046372132445246,
          0.39598655559814544,
          0.2462597454822749,
          0.3587653348621604,
          0.3473766888254714,
          0.4161719179884129,
          0.3014121674317004,
          0.43962064494815173,
          0.3810374793675545,
          0.376302033160036,
          0.33470003265400783,
          0.5070726958154121,
          0.42394300771555987,
          0.5248926748380425,
          0.3755374292831924,
          0.4608102423934472,
          0.46970138565527725,
          0.562673036376195,
          0.481108682088272,
          0.481537269923946,
          0.41190176321320154,
          0.49130423925342986,
          0.3778291801180031,
          0.5681898817431158,
          0.39490262812170435,
          0.5625980430846134,
          0.4001215414604311,
          0.5155161064902705,
          0.41508799051197176,
          0.612268384966605,
          0.4629145001705101,
          0.7572041695424578,
          0.6000952070814105,
          0.7758235177414186,
          0.6008959370164961,
          0.7047332190301773,
          0.7395696227818553,
          0.8066703259251293,
          0.719588445890908,
          0.8023458890503622,
          0.7167557102952434,
          0.7764375378391203,
          0.6592345862646919,
          0.8654020144891483,
          0.7512554176263743,
          1.0046508531188698,
          0.8805886611022036,
          0.9740604713959017,
          0.9083764762401487,
          1.115716879340089,
          0.9279652941946506,
          1.0287462214966778,
          1.0275717830214524,
          1.1231707062633585,
          1.1086500318440557,
          1.1607823279810554,
          1.0804853754768677,
          1.1414720084380778,
          1.0897301132827901,
          1.5078153863882213,
          1.3506327913943474,
          1.6365695610902211,
          1.5484438983882542,
          1.7839256083292454,
          1.7915486694279628,
          2.1499509402551475,
          2.0783771744126986
         ],
         "z": [
          0.8869379386120768,
          0.017871859277345834,
          1.4843440421427803,
          0.028065729846338,
          0.4641167403253674,
          0.08081178592818157,
          0.9779136823978483,
          -0.2965555566034615,
          0.054881229901152205,
          -0.11302787628162272,
          -0.25630313268769683,
          -0.7970709399985787,
          0.029717972039115043,
          -0.006040428821999548,
          0.775197484215673,
          0.021846498582937447,
          0.42418460565687266,
          0.3373615018760075,
          -0.03668026246760774,
          -0.7783420422354154,
          0.42247401579700805,
          0.034749420345943666,
          0.6251238491452538,
          -0.16784052362196064,
          0.18309149748248008,
          -0.27237130258765635,
          0.14331472799757222,
          -0.07408936380824543,
          0.33106141315824705,
          -0.16394026631714076,
          0.16981795597195842,
          0.17065963613772248,
          0.4058020558109406,
          -0.09241356598708997,
          0.3513972820827319,
          0.017713441794404296,
          0.5303046851356494,
          -0.13344778068827742,
          0.5607745352487848,
          0.16561699263624183,
          -0.5898331183785378,
          -0.295359511353624,
          -0.0366979331158481,
          0.06137585023524623,
          0.0836746917196821,
          0.22128735447602796,
          -0.4654567432681001,
          0.46347606722952517,
          0.4914002484990757,
          0.4238999339596601,
          -0.3746298892123274,
          0.011249844997759318,
          0.1946141429691691,
          -0.866343244364301,
          -0.2748747526991401,
          -0.09872827305373603,
          -0.40413840612747154,
          -0.9367452291459313,
          0.3866024684844077,
          -0.3969207135299213,
          -1.1615223787328863,
          0.5788205411840049,
          -0.9825777218153552,
          -0.6774199714417062,
          -0.8300247827352805,
          0.536053101107225,
          -0.1344931493684388,
          -0.9400772827875473,
          0.5023029438375172,
          0.29401327808372674,
          -1.1427044806200652,
          -0.11690358550258165,
          -0.689338924490993,
          -0.8229332186235455,
          -0.6192185591072208,
          0.36094233666058406,
          -0.25978216349117866,
          0.0029495298554342137,
          0.5018061956041862,
          -0.18484890179028443,
          -0.6280578412149782,
          -0.06314444973770275,
          -0.774710422294124,
          -0.12176822830474747,
          0.47388201433463567,
          -0.22888192997864176,
          -0.6929752330461951,
          0.47803465433954206,
          -0.02248072905557514,
          -0.29529465710579483,
          -1.0746505807663316,
          0.8786022821732713,
          -0.28667062956196604,
          0.15653830986272765,
          0.38836976969680365,
          0.4660784474256415,
          -0.2133070851577795,
          0.40444136275099685,
          -0.15316533577907085,
          0.658244773640195,
          0.7110280835866521,
          -0.3000702995583032,
          -1.1189506100036615,
          0.34114543470153136,
          -0.4541930816635413,
          0.7594434989642744,
          -0.9120817718165797,
          -0.43218387674380543,
          -0.847431381034335,
          -0.8753555623038854,
          -0.9179450016813507,
          0.5978360232125141,
          0.18551282467992708,
          0.7489826273463102,
          0.7459175747536664,
          0.673997619160372,
          -0.6774150065742188,
          -0.5102711913870009,
          -0.2725911200370399,
          -0.5060295510324372,
          0.2878653765217432,
          0.22341562195454123,
          -0.18779087819646725,
          -0.7852859820768281,
          0.9393348707309114,
          -0.24674154719282573,
          0.14828974120544633,
          -0.8955537366930236,
          0.06632480477315883,
          -0.4463554389177436,
          0.5094964903332388,
          -0.4801055961874514,
          0.7762320596832148,
          -0.1324101529213813,
          1.4969123325632077,
          -0.38944212448210785,
          0.6501823485775261,
          -0.20586269767522514,
          1.4351489936742918,
          -0.2866736818613205,
          0.24942210169559634,
          -0.5877386816104045,
          0.5601161915047023,
          -0.4718746981784103,
          1.1942112506834863,
          -0.5292556498780612,
          -0.040079946402830496,
          -0.22386000942475587,
          0.7009654320994186,
          -0.5982512997134127,
          0.49119492367012235,
          -0.7288322877383653,
          0.40163365772592713,
          -0.4646197517162466,
          0.3767227825639766,
          -0.34147171085277256,
          0.9990542538770606,
          -0.23278829188217057,
          1.100304725686184,
          -0.13736379607320445,
          -0.2897307172871223,
          -0.2945516307710863,
          1.529950487035656,
          -0.5530789376277491,
          0.08255672787842665,
          -0.3786575404626397,
          0.466978380657191,
          -0.6591940522390384,
          0.5372396186041201,
          -0.016259710952496984,
          0.6679839889795017,
          -0.11027787181518448,
          0.8602393155437127,
          -0.7047224157233317,
          0.264336690204243,
          -0.38635748867309067,
          0.022222359451517362,
          0.037892680075625254,
          0.007112099595315741,
          -0.6333364622279821,
          0.4071749620288719,
          -0.45465880635942313,
          0.4263342431914367,
          -0.39166713322354363,
          0.13840203811817317,
          -0.5987139721099403,
          -0.014254519660444671,
          0.022070417422164045,
          0.5579138182789943,
          -0.5711085383744058,
          0.6796555241961897,
          -0.130749522706883,
          0.9973455765853293,
          -0.754008251381155,
          0.3729847678783645,
          -0.4243619920781149,
          0.21093229037831673,
          -0.22966461536886226,
          0.8381107338453264,
          -0.3349073971318175
         ]
        },
        {
         "line": {
          "color": "#440154",
          "width": 3
         },
         "mode": "lines",
         "showlegend": false,
         "type": "scatter3d",
         "x": [
          1.2142883009290564,
          0.6568020323035865
         ],
         "y": [
          -0.5857054774225184,
          -0.13925694540669598
         ],
         "z": [
          -0.5898331183785378,
          -0.5678499245470989
         ]
        },
        {
         "line": {
          "color": "#440154",
          "width": 3
         },
         "mode": "lines",
         "showlegend": false,
         "type": "scatter3d",
         "x": [
          0.31690417207742166,
          0.6568020323035865
         ],
         "y": [
          -0.5800038801729476,
          -0.13925694540669598
         ],
         "z": [
          -0.4654567432681001,
          -0.5678499245470989
         ]
        },
        {
         "line": {
          "color": "#440154",
          "width": 3
         },
         "mode": "lines",
         "showlegend": false,
         "type": "scatter3d",
         "x": [
          0.33104442043304644,
          0.6568020323035865
         ],
         "y": [
          -0.5242000344922223,
          -0.13925694540669598
         ],
         "z": [
          -0.3746298892123274,
          -0.5678499245470989
         ]
        },
        {
         "line": {
          "color": "#440154",
          "width": 3
         },
         "mode": "lines",
         "showlegend": false,
         "type": "scatter3d",
         "x": [
          0.6189324431868186,
          0.6568020323035865
         ],
         "y": [
          -0.4067742470221681,
          -0.13925694540669598
         ],
         "z": [
          -0.866343244364301,
          -0.5678499245470989
         ]
        },
        {
         "line": {
          "color": "#440154",
          "width": 3
         },
         "mode": "lines",
         "showlegend": false,
         "type": "scatter3d",
         "x": [
          0.4897694496677992,
          0.6568020323035865
         ],
         "y": [
          -0.4877613876500089,
          -0.13925694540669598
         ],
         "z": [
          -0.2748747526991401,
          -0.5678499245470989
         ]
        },
        {
         "line": {
          "color": "#440154",
          "width": 3
         },
         "mode": "lines",
         "showlegend": false,
         "type": "scatter3d",
         "x": [
          0.5261772642403629,
          0.6568020323035865
         ],
         "y": [
          -0.40930973096901613,
          -0.13925694540669598
         ],
         "z": [
          -0.09872827305373603,
          -0.5678499245470989
         ]
        },
        {
         "line": {
          "color": "#440154",
          "width": 3
         },
         "mode": "lines",
         "showlegend": false,
         "type": "scatter3d",
         "x": [
          0.4350689433770153,
          0.6568020323035865
         ],
         "y": [
          -0.46384813282073983,
          -0.13925694540669598
         ],
         "z": [
          -0.40413840612747154,
          -0.5678499245470989
         ]
        },
        {
         "line": {
          "color": "#440154",
          "width": 3
         },
         "mode": "lines",
         "showlegend": false,
         "type": "scatter3d",
         "x": [
          1.225164909124551,
          0.6568020323035865
         ],
         "y": [
          -0.34625360553022994,
          -0.13925694540669598
         ],
         "z": [
          -0.9367452291459313,
          -0.5678499245470989
         ]
        },
        {
         "line": {
          "color": "#440154",
          "width": 3
         },
         "mode": "lines",
         "showlegend": false,
         "type": "scatter3d",
         "x": [
          0.6476000941880974,
          0.6568020323035865
         ],
         "y": [
          -0.3215403011452529,
          -0.13925694540669598
         ],
         "z": [
          -0.3969207135299213,
          -0.5678499245470989
         ]
        },
        {
         "line": {
          "color": "#440154",
          "width": 3
         },
         "mode": "lines",
         "showlegend": false,
         "type": "scatter3d",
         "x": [
          1.0798739845822702,
          0.6568020323035865
         ],
         "y": [
          -0.3002910420911926,
          -0.13925694540669598
         ],
         "z": [
          -1.1615223787328863,
          -0.5678499245470989
         ]
        },
        {
         "line": {
          "color": "#440154",
          "width": 3
         },
         "mode": "lines",
         "showlegend": false,
         "type": "scatter3d",
         "x": [
          0.9687472768132632,
          0.6568020323035865
         ],
         "y": [
          -0.3543078927987324,
          -0.13925694540669598
         ],
         "z": [
          -0.9825777218153552,
          -0.5678499245470989
         ]
        },
        {
         "line": {
          "color": "#440154",
          "width": 3
         },
         "mode": "lines",
         "showlegend": false,
         "type": "scatter3d",
         "x": [
          0.37768019226743205,
          0.6568020323035865
         ],
         "y": [
          -0.38584567232646044,
          -0.13925694540669598
         ],
         "z": [
          -0.6774199714417062,
          -0.5678499245470989
         ]
        },
        {
         "line": {
          "color": "#440154",
          "width": 3
         },
         "mode": "lines",
         "showlegend": false,
         "type": "scatter3d",
         "x": [
          0.9142456837612069,
          0.6568020323035865
         ],
         "y": [
          -0.25358330839198145,
          -0.13925694540669598
         ],
         "z": [
          -0.8300247827352805,
          -0.5678499245470989
         ]
        },
        {
         "line": {
          "color": "#440154",
          "width": 3
         },
         "mode": "lines",
         "showlegend": false,
         "type": "scatter3d",
         "x": [
          0.14129720056121886,
          0.6568020323035865
         ],
         "y": [
          -0.36968681478276616,
          -0.13925694540669598
         ],
         "z": [
          -0.1344931493684388,
          -0.5678499245470989
         ]
        },
        {
         "line": {
          "color": "#440154",
          "width": 3
         },
         "mode": "lines",
         "showlegend": false,
         "type": "scatter3d",
         "x": [
          1.0741159221666314,
          0.6568020323035865
         ],
         "y": [
          -0.32100059395975516,
          -0.13925694540669598
         ],
         "z": [
          -0.9400772827875473,
          -0.5678499245470989
         ]
        },
        {
         "line": {
          "color": "#440154",
          "width": 3
         },
         "mode": "lines",
         "showlegend": false,
         "type": "scatter3d",
         "x": [
          1.092670110528495,
          0.6568020323035865
         ],
         "y": [
          -0.2174425935779622,
          -0.13925694540669598
         ],
         "z": [
          -1.1427044806200652,
          -0.5678499245470989
         ]
        },
        {
         "line": {
          "color": "#440154",
          "width": 3
         },
         "mode": "lines",
         "showlegend": false,
         "type": "scatter3d",
         "x": [
          0.42547742697190516,
          0.6568020323035865
         ],
         "y": [
          -0.3266125466143051,
          -0.13925694540669598
         ],
         "z": [
          -0.11690358550258165,
          -0.5678499245470989
         ]
        },
        {
         "line": {
          "color": "#440154",
          "width": 3
         },
         "mode": "lines",
         "showlegend": false,
         "type": "scatter3d",
         "x": [
          0.7658849416220869,
          0.6568020323035865
         ],
         "y": [
          -0.282419502486517,
          -0.13925694540669598
         ],
         "z": [
          -0.689338924490993,
          -0.5678499245470989
         ]
        },
        {
         "line": {
          "color": "#440154",
          "width": 3
         },
         "mode": "lines",
         "showlegend": false,
         "type": "scatter3d",
         "x": [
          0.6413867125655238,
          0.6568020323035865
         ],
         "y": [
          -0.28972598116073445,
          -0.13925694540669598
         ],
         "z": [
          -0.8229332186235455,
          -0.5678499245470989
         ]
        },
        {
         "line": {
          "color": "#440154",
          "width": 3
         },
         "mode": "lines",
         "showlegend": false,
         "type": "scatter3d",
         "x": [
          0.8318492103983944,
          0.6568020323035865
         ],
         "y": [
          -0.09325463090803311,
          -0.13925694540669598
         ],
         "z": [
          -0.6192185591072208,
          -0.5678499245470989
         ]
        },
        {
         "line": {
          "color": "#440154",
          "width": 3
         },
         "mode": "lines",
         "showlegend": false,
         "type": "scatter3d",
         "x": [
          0.14974196990612124,
          0.6568020323035865
         ],
         "y": [
          -0.20548093865603045,
          -0.13925694540669598
         ],
         "z": [
          -0.25978216349117866,
          -0.5678499245470989
         ]
        },
        {
         "line": {
          "color": "#440154",
          "width": 3
         },
         "mode": "lines",
         "showlegend": false,
         "type": "scatter3d",
         "x": [
          0.48894169198071485,
          0.6568020323035865
         ],
         "y": [
          -0.18654354443282836,
          -0.13925694540669598
         ],
         "z": [
          -0.18484890179028443,
          -0.5678499245470989
         ]
        },
        {
         "line": {
          "color": "#440154",
          "width": 3
         },
         "mode": "lines",
         "showlegend": false,
         "type": "scatter3d",
         "x": [
          0.6889275413017898,
          0.6568020323035865
         ],
         "y": [
          -0.10115765401801614,
          -0.13925694540669598
         ],
         "z": [
          -0.6280578412149782,
          -0.5678499245470989
         ]
        },
        {
         "line": {
          "color": "#440154",
          "width": 3
         },
         "mode": "lines",
         "showlegend": false,
         "type": "scatter3d",
         "x": [
          1.2256812738468665,
          0.6568020323035865
         ],
         "y": [
          -0.07208036514555453,
          -0.13925694540669598
         ],
         "z": [
          -0.774710422294124,
          -0.5678499245470989
         ]
        },
        {
         "line": {
          "color": "#440154",
          "width": 3
         },
         "mode": "lines",
         "showlegend": false,
         "type": "scatter3d",
         "x": [
          0.3457010335109866,
          0.6568020323035865
         ],
         "y": [
          -0.1942229484268215,
          -0.13925694540669598
         ],
         "z": [
          -0.12176822830474747,
          -0.5678499245470989
         ]
        },
        {
         "line": {
          "color": "#440154",
          "width": 3
         },
         "mode": "lines",
         "showlegend": false,
         "type": "scatter3d",
         "x": [
          0.45484564012434686,
          0.6568020323035865
         ],
         "y": [
          -0.11271425665479669,
          -0.13925694540669598
         ],
         "z": [
          -0.22888192997864176,
          -0.5678499245470989
         ]
        },
        {
         "line": {
          "color": "#440154",
          "width": 3
         },
         "mode": "lines",
         "showlegend": false,
         "type": "scatter3d",
         "x": [
          0.41472444769670735,
          0.6568020323035865
         ],
         "y": [
          -0.11025572395426401,
          -0.13925694540669598
         ],
         "z": [
          -0.6929752330461951,
          -0.5678499245470989
         ]
        },
        {
         "line": {
          "color": "#440154",
          "width": 3
         },
         "mode": "lines",
         "showlegend": false,
         "type": "scatter3d",
         "x": [
          0.447037311636156,
          0.6568020323035865
         ],
         "y": [
          -0.07978184109032883,
          -0.13925694540669598
         ],
         "z": [
          -0.29529465710579483,
          -0.5678499245470989
         ]
        },
        {
         "line": {
          "color": "#440154",
          "width": 3
         },
         "mode": "lines",
         "showlegend": false,
         "type": "scatter3d",
         "x": [
          0.9313234635023129,
          0.6568020323035865
         ],
         "y": [
          -0.02835663120052735,
          -0.13925694540669598
         ],
         "z": [
          -1.0746505807663316,
          -0.5678499245470989
         ]
        },
        {
         "line": {
          "color": "#440154",
          "width": 3
         },
         "mode": "lines",
         "showlegend": false,
         "type": "scatter3d",
         "x": [
          0.39151058554782336,
          0.6568020323035865
         ],
         "y": [
          0.04776372703293741,
          -0.13925694540669598
         ],
         "z": [
          -0.28667062956196604,
          -0.5678499245470989
         ]
        },
        {
         "line": {
          "color": "#440154",
          "width": 3
         },
         "mode": "lines",
         "showlegend": false,
         "type": "scatter3d",
         "x": [
          0.31825589089517603,
          0.6568020323035865
         ],
         "y": [
          -0.03188101851958656,
          -0.13925694540669598
         ],
         "z": [
          -0.2133070851577795,
          -0.5678499245470989
         ]
        },
        {
         "line": {
          "color": "#440154",
          "width": 3
         },
         "mode": "lines",
         "showlegend": false,
         "type": "scatter3d",
         "x": [
          0.5143457028218632,
          0.6568020323035865
         ],
         "y": [
          0.08233842765564989,
          -0.13925694540669598
         ],
         "z": [
          -0.15316533577907085,
          -0.5678499245470989
         ]
        },
        {
         "line": {
          "color": "#440154",
          "width": 3
         },
         "mode": "lines",
         "showlegend": false,
         "type": "scatter3d",
         "x": [
          0.36892402995776075,
          0.6568020323035865
         ],
         "y": [
          0.025339535148659775,
          -0.13925694540669598
         ],
         "z": [
          -0.3000702995583032,
          -0.5678499245470989
         ]
        },
        {
         "line": {
          "color": "#440154",
          "width": 3
         },
         "mode": "lines",
         "showlegend": false,
         "type": "scatter3d",
         "x": [
          0.8922380762983757,
          0.6568020323035865
         ],
         "y": [
          0.12727732242298942,
          -0.13925694540669598
         ],
         "z": [
          -1.1189506100036615,
          -0.5678499245470989
         ]
        },
        {
         "line": {
          "color": "#440154",
          "width": 3
         },
         "mode": "lines",
         "showlegend": false,
         "type": "scatter3d",
         "x": [
          0.29957604488692685,
          0.6568020323035865
         ],
         "y": [
          0.09685763847521084,
          -0.13925694540669598
         ],
         "z": [
          -0.4541930816635413,
          -0.5678499245470989
         ]
        },
        {
         "line": {
          "color": "#440154",
          "width": 3
         },
         "mode": "lines",
         "showlegend": false,
         "type": "scatter3d",
         "x": [
          0.9418184989197679,
          0.6568020323035865
         ],
         "y": [
          0.0822072774931779,
          -0.13925694540669598
         ],
         "z": [
          -0.9120817718165797,
          -0.5678499245470989
         ]
        },
        {
         "line": {
          "color": "#440154",
          "width": 3
         },
         "mode": "lines",
         "showlegend": false,
         "type": "scatter3d",
         "x": [
          0.6552171058459155,
          0.6568020323035865
         ],
         "y": [
          0.1438834181986634,
          -0.13925694540669598
         ],
         "z": [
          -0.43218387674380543,
          -0.5678499245470989
         ]
        },
        {
         "line": {
          "color": "#440154",
          "width": 3
         },
         "mode": "lines",
         "showlegend": false,
         "type": "scatter3d",
         "x": [
          1.2110322571772805,
          0.6568020323035865
         ],
         "y": [
          0.17311001327491082,
          -0.13925694540669598
         ],
         "z": [
          -0.847431381034335,
          -0.5678499245470989
         ]
        },
        {
         "line": {
          "color": "#440154",
          "width": 3
         },
         "mode": "lines",
         "showlegend": false,
         "type": "scatter3d",
         "x": [
          1.0503251267868812,
          0.6568020323035865
         ],
         "y": [
          0.16416320749718247,
          -0.13925694540669598
         ],
         "z": [
          -0.8753555623038854,
          -0.5678499245470989
         ]
        },
        {
         "line": {
          "color": "#440154",
          "width": 3
         },
         "mode": "lines",
         "showlegend": false,
         "type": "scatter3d",
         "x": [
          0.9432933696509894,
          0.6568020323035865
         ],
         "y": [
          0.15812413060670025,
          -0.13925694540669598
         ],
         "z": [
          -0.9179450016813507,
          -0.5678499245470989
         ]
        },
        {
         "line": {
          "color": "#440154",
          "width": 3
         },
         "mode": "lines",
         "showlegend": false,
         "type": "scatter3d",
         "x": [
          0.9553207685291458,
          0.6568020323035865
         ],
         "y": [
          0.13845836140588297,
          -0.13925694540669598
         ],
         "z": [
          -0.6774150065742188,
          -0.5678499245470989
         ]
        },
        {
         "line": {
          "color": "#440154",
          "width": 3
         },
         "mode": "lines",
         "showlegend": false,
         "type": "scatter3d",
         "x": [
          0.16829462037844917,
          0.6568020323035865
         ],
         "y": [
          0.09566259164894603,
          -0.13925694540669598
         ],
         "z": [
          -0.5102711913870009,
          -0.5678499245470989
         ]
        },
        {
         "line": {
          "color": "#440154",
          "width": 3
         },
         "mode": "lines",
         "showlegend": false,
         "type": "scatter3d",
         "x": [
          0.521315601435544,
          0.6568020323035865
         ],
         "y": [
          0.17062745066886328,
          -0.13925694540669598
         ],
         "z": [
          -0.2725911200370399,
          -0.5678499245470989
         ]
        },
        {
         "line": {
          "color": "#440154",
          "width": 3
         },
         "mode": "lines",
         "showlegend": false,
         "type": "scatter3d",
         "x": [
          0.2364292313617051,
          0.6568020323035865
         ],
         "y": [
          0.1541505471009276,
          -0.13925694540669598
         ],
         "z": [
          -0.5060295510324372,
          -0.5678499245470989
         ]
        },
        {
         "line": {
          "color": "#440154",
          "width": 3
         },
         "mode": "lines",
         "showlegend": false,
         "type": "scatter3d",
         "x": [
          0.8230915101991877,
          0.6568020323035865
         ],
         "y": [
          0.5155161064902705,
          -0.13925694540669598
         ],
         "z": [
          -0.2897307172871223,
          -0.5678499245470989
         ]
        },
        {
         "line": {
          "color": "#414487",
          "width": 3
         },
         "mode": "lines",
         "showlegend": false,
         "type": "scatter3d",
         "x": [
          -0.36628011266861815,
          -0.40523779526356457
         ],
         "y": [
          -0.6145243818795034,
          -0.12130945667897387
         ],
         "z": [
          0.46347606722952517,
          0.4305333512569378
         ]
        },
        {
         "line": {
          "color": "#414487",
          "width": 3
         },
         "mode": "lines",
         "showlegend": false,
         "type": "scatter3d",
         "x": [
          -0.20557298227821869,
          -0.40523779526356457
         ],
         "y": [
          -0.6055775761017751,
          -0.12130945667897387
         ],
         "z": [
          0.4914002484990757,
          0.4305333512569378
         ]
        },
        {
         "line": {
          "color": "#414487",
          "width": 3
         },
         "mode": "lines",
         "showlegend": false,
         "type": "scatter3d",
         "x": [
          -0.1337931583567928,
          -0.40523779526356457
         ],
         "y": [
          -0.6018496836627735,
          -0.12130945667897387
         ],
         "z": [
          0.4238999339596601,
          0.4305333512569378
         ]
        },
        {
         "line": {
          "color": "#414487",
          "width": 3
         },
         "mode": "lines",
         "showlegend": false,
         "type": "scatter3d",
         "x": [
          -0.31254215600919444,
          -0.40523779526356457
         ],
         "y": [
          -0.4825050706776842,
          -0.12130945667897387
         ],
         "z": [
          0.011249844997759318,
          0.4305333512569378
         ]
        },
        {
         "line": {
          "color": "#414487",
          "width": 3
         },
         "mode": "lines",
         "showlegend": false,
         "type": "scatter3d",
         "x": [
          -0.3522080292298991,
          -0.40523779526356457
         ],
         "y": [
          -0.5325704098302325,
          -0.12130945667897387
         ],
         "z": [
          0.1946141429691691,
          0.4305333512569378
         ]
        },
        {
         "line": {
          "color": "#414487",
          "width": 3
         },
         "mode": "lines",
         "showlegend": false,
         "type": "scatter3d",
         "x": [
          -0.44740062853893636,
          -0.40523779526356457
         ],
         "y": [
          -0.4550901808595146,
          -0.12130945667897387
         ],
         "z": [
          0.3866024684844077,
          0.4305333512569378
         ]
        },
        {
         "line": {
          "color": "#414487",
          "width": 3
         },
         "mode": "lines",
         "showlegend": false,
         "type": "scatter3d",
         "x": [
          -0.7327260641202948,
          -0.40523779526356457
         ],
         "y": [
          -0.39430851661798866,
          -0.12130945667897387
         ],
         "z": [
          0.5788205411840049,
          0.4305333512569378
         ]
        },
        {
         "line": {
          "color": "#414487",
          "width": 3
         },
         "mode": "lines",
         "showlegend": false,
         "type": "scatter3d",
         "x": [
          -0.8430840448212331,
          -0.40523779526356457
         ],
         "y": [
          -0.34581114961148085,
          -0.12130945667897387
         ],
         "z": [
          0.536053101107225,
          0.4305333512569378
         ]
        },
        {
         "line": {
          "color": "#414487",
          "width": 3
         },
         "mode": "lines",
         "showlegend": false,
         "type": "scatter3d",
         "x": [
          -0.8071941328605201,
          -0.40523779526356457
         ],
         "y": [
          -0.34394720339198004,
          -0.12130945667897387
         ],
         "z": [
          0.5023029438375172,
          0.4305333512569378
         ]
        },
        {
         "line": {
          "color": "#414487",
          "width": 3
         },
         "mode": "lines",
         "showlegend": false,
         "type": "scatter3d",
         "x": [
          -0.20013544712523929,
          -0.40523779526356457
         ],
         "y": [
          -0.3870588751940391,
          -0.12130945667897387
         ],
         "z": [
          0.29401327808372674,
          0.4305333512569378
         ]
        },
        {
         "line": {
          "color": "#414487",
          "width": 3
         },
         "mode": "lines",
         "showlegend": false,
         "type": "scatter3d",
         "x": [
          -0.47701611336169547,
          -0.40523779526356457
         ],
         "y": [
          -0.1620713348257774,
          -0.12130945667897387
         ],
         "z": [
          0.36094233666058406,
          0.4305333512569378
         ]
        },
        {
         "line": {
          "color": "#414487",
          "width": 3
         },
         "mode": "lines",
         "showlegend": false,
         "type": "scatter3d",
         "x": [
          0.13215542185105397,
          -0.40523779526356457
         ],
         "y": [
          -0.1297133917462939,
          -0.12130945667897387
         ],
         "z": [
          0.0029495298554342137,
          0.4305333512569378
         ]
        },
        {
         "line": {
          "color": "#414487",
          "width": 3
         },
         "mode": "lines",
         "showlegend": false,
         "type": "scatter3d",
         "x": [
          -0.6220506319357687,
          -0.40523779526356457
         ],
         "y": [
          -0.24544397281730299,
          -0.12130945667897387
         ],
         "z": [
          0.5018061956041862,
          0.4305333512569378
         ]
        },
        {
         "line": {
          "color": "#414487",
          "width": 3
         },
         "mode": "lines",
         "showlegend": false,
         "type": "scatter3d",
         "x": [
          -0.0641226311269349,
          -0.40523779526356457
         ],
         "y": [
          -0.140747762859513,
          -0.12130945667897387
         ],
         "z": [
          -0.06314444973770275,
          0.4305333512569378
         ]
        },
        {
         "line": {
          "color": "#414487",
          "width": 3
         },
         "mode": "lines",
         "showlegend": false,
         "type": "scatter3d",
         "x": [
          -0.782757762326168,
          -0.40523779526356457
         ],
         "y": [
          -0.25439077859503134,
          -0.12130945667897387
         ],
         "z": [
          0.47388201433463567,
          0.4305333512569378
         ]
        },
        {
         "line": {
          "color": "#414487",
          "width": 3
         },
         "mode": "lines",
         "showlegend": false,
         "type": "scatter3d",
         "x": [
          -0.7162862631254354,
          -0.40523779526356457
         ],
         "y": [
          -0.16863460119455476,
          -0.12130945667897387
         ],
         "z": [
          0.47803465433954206,
          0.4305333512569378
         ]
        },
        {
         "line": {
          "color": "#414487",
          "width": 3
         },
         "mode": "lines",
         "showlegend": false,
         "type": "scatter3d",
         "x": [
          -0.37619773784837696,
          -0.40523779526356457
         ],
         "y": [
          -0.12421793795077672,
          -0.12130945667897387
         ],
         "z": [
          -0.02248072905557514,
          0.4305333512569378
         ]
        },
        {
         "line": {
          "color": "#414487",
          "width": 3
         },
         "mode": "lines",
         "showlegend": false,
         "type": "scatter3d",
         "x": [
          -0.5412399711406838,
          -0.40523779526356457
         ],
         "y": [
          -0.027072620158619182,
          -0.12130945667897387
         ],
         "z": [
          0.8786022821732713,
          0.4305333512569378
         ]
        },
        {
         "line": {
          "color": "#414487",
          "width": 3
         },
         "mode": "lines",
         "showlegend": false,
         "type": "scatter3d",
         "x": [
          0.1915247362267485,
          -0.40523779526356457
         ],
         "y": [
          -0.037622163381874796,
          -0.12130945667897387
         ],
         "z": [
          0.15653830986272765,
          0.4305333512569378
         ]
        },
        {
         "line": {
          "color": "#414487",
          "width": 3
         },
         "mode": "lines",
         "showlegend": false,
         "type": "scatter3d",
         "x": [
          -0.1311654820465444,
          -0.40523779526356457
         ],
         "y": [
          -0.05462129847337199,
          -0.12130945667897387
         ],
         "z": [
          0.38836976969680365,
          0.4305333512569378
         ]
        },
        {
         "line": {
          "color": "#414487",
          "width": 3
         },
         "mode": "lines",
         "showlegend": false,
         "type": "scatter3d",
         "x": [
          -0.5232036853906712,
          -0.40523779526356457
         ],
         "y": [
          -0.00010233023831812284,
          -0.12130945667897387
         ],
         "z": [
          0.4660784474256415,
          0.4305333512569378
         ]
        },
        {
         "line": {
          "color": "#414487",
          "width": 3
         },
         "mode": "lines",
         "showlegend": false,
         "type": "scatter3d",
         "x": [
          -0.45289873220046684,
          -0.40523779526356457
         ],
         "y": [
          -0.07229129091283885,
          -0.12130945667897387
         ],
         "z": [
          0.40444136275099685,
          0.4305333512569378
         ]
        },
        {
         "line": {
          "color": "#414487",
          "width": 3
         },
         "mode": "lines",
         "showlegend": false,
         "type": "scatter3d",
         "x": [
          -0.615070061134662,
          -0.40523779526356457
         ],
         "y": [
          0.022841454835409704,
          -0.12130945667897387
         ],
         "z": [
          0.658244773640195,
          0.4305333512569378
         ]
        },
        {
         "line": {
          "color": "#414487",
          "width": 3
         },
         "mode": "lines",
         "showlegend": false,
         "type": "scatter3d",
         "x": [
          -0.43971545196421263,
          -0.40523779526356457
         ],
         "y": [
          -0.015816587884143887,
          -0.12130945667897387
         ],
         "z": [
          0.7110280835866521,
          0.4305333512569378
         ]
        },
        {
         "line": {
          "color": "#414487",
          "width": 3
         },
         "mode": "lines",
         "showlegend": false,
         "type": "scatter3d",
         "x": [
          -0.5081064689156759,
          -0.40523779526356457
         ],
         "y": [
          0.05503065809443751,
          -0.12130945667897387
         ],
         "z": [
          0.34114543470153136,
          0.4305333512569378
         ]
        },
        {
         "line": {
          "color": "#414487",
          "width": 3
         },
         "mode": "lines",
         "showlegend": false,
         "type": "scatter3d",
         "x": [
          -0.5292807371794331,
          -0.40523779526356457
         ],
         "y": [
          -0.020588262990890862,
          -0.12130945667897387
         ],
         "z": [
          0.7594434989642744,
          0.4305333512569378
         ]
        },
        {
         "line": {
          "color": "#414487",
          "width": 3
         },
         "mode": "lines",
         "showlegend": false,
         "type": "scatter3d",
         "x": [
          -0.8161492084089189,
          -0.40523779526356457
         ],
         "y": [
          -0.009573325494341652,
          -0.12130945667897387
         ],
         "z": [
          0.5978360232125141,
          0.4305333512569378
         ]
        },
        {
         "line": {
          "color": "#414487",
          "width": 3
         },
         "mode": "lines",
         "showlegend": false,
         "type": "scatter3d",
         "x": [
          0.07752154258764031,
          -0.40523779526356457
         ],
         "y": [
          0.065635266637613,
          -0.12130945667897387
         ],
         "z": [
          0.18551282467992708,
          0.4305333512569378
         ]
        },
        {
         "line": {
          "color": "#414487",
          "width": 3
         },
         "mode": "lines",
         "showlegend": false,
         "type": "scatter3d",
         "x": [
          -0.6025929245615604,
          -0.40523779526356457
         ],
         "y": [
          0.10591352246463004,
          -0.12130945667897387
         ],
         "z": [
          0.7489826273463102,
          0.4305333512569378
         ]
        },
        {
         "line": {
          "color": "#414487",
          "width": 3
         },
         "mode": "lines",
         "showlegend": false,
         "type": "scatter3d",
         "x": [
          -0.74865257617191,
          -0.40523779526356457
         ],
         "y": [
          0.049361868189619705,
          -0.12130945667897387
         ],
         "z": [
          0.7459175747536664,
          0.4305333512569378
         ]
        },
        {
         "line": {
          "color": "#414487",
          "width": 3
         },
         "mode": "lines",
         "showlegend": false,
         "type": "scatter3d",
         "x": [
          -0.7483335867987864,
          -0.40523779526356457
         ],
         "y": [
          0.04913824907362981,
          -0.12130945667897387
         ],
         "z": [
          0.673997619160372,
          0.4305333512569378
         ]
        },
        {
         "line": {
          "color": "#414487",
          "width": 3
         },
         "mode": "lines",
         "showlegend": false,
         "type": "scatter3d",
         "x": [
          -0.4983175771613739,
          -0.40523779526356457
         ],
         "y": [
          0.19219193138866814,
          -0.12130945667897387
         ],
         "z": [
          0.2878653765217432,
          0.4305333512569378
         ]
        },
        {
         "line": {
          "color": "#414487",
          "width": 3
         },
         "mode": "lines",
         "showlegend": false,
         "type": "scatter3d",
         "x": [
          0.10810312982766006,
          -0.40523779526356457
         ],
         "y": [
          0.1495274978185888,
          -0.12130945667897387
         ],
         "z": [
          0.22341562195454123,
          0.4305333512569378
         ]
        },
        {
         "line": {
          "color": "#414487",
          "width": 3
         },
         "mode": "lines",
         "showlegend": false,
         "type": "scatter3d",
         "x": [
          -0.14358157310426542,
          -0.40523779526356457
         ],
         "y": [
          0.18900374613516419,
          -0.12130945667897387
         ],
         "z": [
          -0.18779087819646725,
          0.4305333512569378
         ]
        },
        {
         "line": {
          "color": "#414487",
          "width": 3
         },
         "mode": "lines",
         "showlegend": false,
         "type": "scatter3d",
         "x": [
          -0.2395948106988618,
          -0.40523779526356457
         ],
         "y": [
          0.21485457971676056,
          -0.12130945667897387
         ],
         "z": [
          0.9393348707309114,
          0.4305333512569378
         ]
        },
        {
         "line": {
          "color": "#414487",
          "width": 3
         },
         "mode": "lines",
         "showlegend": false,
         "type": "scatter3d",
         "x": [
          -0.26006851681145593,
          -0.40523779526356457
         ],
         "y": [
          0.26790000271402553,
          -0.12130945667897387
         ],
         "z": [
          0.7762320596832148,
          0.4305333512569378
         ]
        },
        {
         "line": {
          "color": "#414487",
          "width": 3
         },
         "mode": "lines",
         "showlegend": false,
         "type": "scatter3d",
         "x": [
          -0.26576399582217836,
          -0.40523779526356457
         ],
         "y": [
          0.376302033160036,
          -0.12130945667897387
         ],
         "z": [
          0.5601161915047023,
          0.4305333512569378
         ]
        },
        {
         "line": {
          "color": "#2a788e",
          "width": 3
         },
         "mode": "lines",
         "showlegend": false,
         "type": "scatter3d",
         "x": [
          -0.39660221816135943,
          -0.9072185481870105
         ],
         "y": [
          -1.222922874337409,
          -1.0020341115654765
         ],
         "z": [
          0.8869379386120768,
          -0.04775838118985839
         ]
        },
        {
         "line": {
          "color": "#2a788e",
          "width": 3
         },
         "mode": "lines",
         "showlegend": false,
         "type": "scatter3d",
         "x": [
          -1.0718117685793116,
          -0.9072185481870105
         ],
         "y": [
          -1.263033853943712,
          -1.0020341115654765
         ],
         "z": [
          0.017871859277345834,
          -0.04775838118985839
         ]
        },
        {
         "line": {
          "color": "#2a788e",
          "width": 3
         },
         "mode": "lines",
         "showlegend": false,
         "type": "scatter3d",
         "x": [
          -1.003488916544754,
          -0.9072185481870105
         ],
         "y": [
          -1.307730973553748,
          -1.0020341115654765
         ],
         "z": [
          0.028065729846338,
          -0.04775838118985839
         ]
        },
        {
         "line": {
          "color": "#2a788e",
          "width": 3
         },
         "mode": "lines",
         "showlegend": false,
         "type": "scatter3d",
         "x": [
          -1.0232564789941954,
          -0.9072185481870105
         ],
         "y": [
          -1.2812829151570082,
          -1.0020341115654765
         ],
         "z": [
          0.08081178592818157,
          -0.04775838118985839
         ]
        },
        {
         "line": {
          "color": "#2a788e",
          "width": 3
         },
         "mode": "lines",
         "showlegend": false,
         "type": "scatter3d",
         "x": [
          -1.3091679821043105,
          -0.9072185481870105
         ],
         "y": [
          -1.270938835008429,
          -1.0020341115654765
         ],
         "z": [
          -0.2965555566034615,
          -0.04775838118985839
         ]
        },
        {
         "line": {
          "color": "#2a788e",
          "width": 3
         },
         "mode": "lines",
         "showlegend": false,
         "type": "scatter3d",
         "x": [
          -0.6683215616983594,
          -0.9072185481870105
         ],
         "y": [
          -1.2076597708330306,
          -1.0020341115654765
         ],
         "z": [
          -0.11302787628162272,
          -0.04775838118985839
         ]
        },
        {
         "line": {
          "color": "#2a788e",
          "width": 3
         },
         "mode": "lines",
         "showlegend": false,
         "type": "scatter3d",
         "x": [
          -0.969079456827252,
          -0.9072185481870105
         ],
         "y": [
          -1.2265221717646506,
          -1.0020341115654765
         ],
         "z": [
          -0.7970709399985787,
          -0.04775838118985839
         ]
        },
        {
         "line": {
          "color": "#2a788e",
          "width": 3
         },
         "mode": "lines",
         "showlegend": false,
         "type": "scatter3d",
         "x": [
          -0.974251451714134,
          -0.9072185481870105
         ],
         "y": [
          -1.196794139540267,
          -1.0020341115654765
         ],
         "z": [
          -0.006040428821999548,
          -0.04775838118985839
         ]
        },
        {
         "line": {
          "color": "#2a788e",
          "width": 3
         },
         "mode": "lines",
         "showlegend": false,
         "type": "scatter3d",
         "x": [
          -1.0086664929436253,
          -0.9072185481870105
         ],
         "y": [
          -1.1227412326462456,
          -1.0020341115654765
         ],
         "z": [
          0.021846498582937447,
          -0.04775838118985839
         ]
        },
        {
         "line": {
          "color": "#2a788e",
          "width": 3
         },
         "mode": "lines",
         "showlegend": false,
         "type": "scatter3d",
         "x": [
          -0.8508984318282432,
          -0.9072185481870105
         ],
         "y": [
          -1.0856317284560626,
          -1.0020341115654765
         ],
         "z": [
          0.3373615018760075,
          -0.04775838118985839
         ]
        },
        {
         "line": {
          "color": "#2a788e",
          "width": 3
         },
         "mode": "lines",
         "showlegend": false,
         "type": "scatter3d",
         "x": [
          -0.9579464426635503,
          -0.9072185481870105
         ],
         "y": [
          -1.1164055013029255,
          -1.0020341115654765
         ],
         "z": [
          -0.7783420422354154,
          -0.04775838118985839
         ]
        },
        {
         "line": {
          "color": "#2a788e",
          "width": 3
         },
         "mode": "lines",
         "showlegend": false,
         "type": "scatter3d",
         "x": [
          -0.8009364364288111,
          -0.9072185481870105
         ],
         "y": [
          -1.0018138101872909,
          -1.0020341115654765
         ],
         "z": [
          0.034749420345943666,
          -0.04775838118985839
         ]
        },
        {
         "line": {
          "color": "#2a788e",
          "width": 3
         },
         "mode": "lines",
         "showlegend": false,
         "type": "scatter3d",
         "x": [
          -0.5872600764470568,
          -0.9072185481870105
         ],
         "y": [
          -0.9633619109217909,
          -1.0020341115654765
         ],
         "z": [
          -0.16784052362196064,
          -0.04775838118985839
         ]
        },
        {
         "line": {
          "color": "#2a788e",
          "width": 3
         },
         "mode": "lines",
         "showlegend": false,
         "type": "scatter3d",
         "x": [
          -0.8240983873602048,
          -0.9072185481870105
         ],
         "y": [
          -0.8946791815250156,
          -1.0020341115654765
         ],
         "z": [
          -0.27237130258765635,
          -0.04775838118985839
         ]
        },
        {
         "line": {
          "color": "#2a788e",
          "width": 3
         },
         "mode": "lines",
         "showlegend": false,
         "type": "scatter3d",
         "x": [
          -0.23526422842623812,
          -0.9072185481870105
         ],
         "y": [
          -0.8615760681853584,
          -1.0020341115654765
         ],
         "z": [
          -0.07408936380824543,
          -0.04775838118985839
         ]
        },
        {
         "line": {
          "color": "#2a788e",
          "width": 3
         },
         "mode": "lines",
         "showlegend": false,
         "type": "scatter3d",
         "x": [
          -1.202963982655503,
          -0.9072185481870105
         ],
         "y": [
          -0.963681914900766,
          -1.0020341115654765
         ],
         "z": [
          -0.16394026631714076,
          -0.04775838118985839
         ]
        },
        {
         "line": {
          "color": "#2a788e",
          "width": 3
         },
         "mode": "lines",
         "showlegend": false,
         "type": "scatter3d",
         "x": [
          -1.0274104602463259,
          -0.9072185481870105
         ],
         "y": [
          -0.9255286280428378,
          -1.0020341115654765
         ],
         "z": [
          0.17065963613772248,
          -0.04775838118985839
         ]
        },
        {
         "line": {
          "color": "#2a788e",
          "width": 3
         },
         "mode": "lines",
         "showlegend": false,
         "type": "scatter3d",
         "x": [
          -1.4050575907786105,
          -0.9072185481870105
         ],
         "y": [
          -0.7892793068745029,
          -1.0020341115654765
         ],
         "z": [
          -0.09241356598708997,
          -0.04775838118985839
         ]
        },
        {
         "line": {
          "color": "#2a788e",
          "width": 3
         },
         "mode": "lines",
         "showlegend": false,
         "type": "scatter3d",
         "x": [
          -1.1746834859442534,
          -0.9072185481870105
         ],
         "y": [
          -0.8520742235393154,
          -1.0020341115654765
         ],
         "z": [
          0.017713441794404296,
          -0.04775838118985839
         ]
        },
        {
         "line": {
          "color": "#2a788e",
          "width": 3
         },
         "mode": "lines",
         "showlegend": false,
         "type": "scatter3d",
         "x": [
          -0.7110536997300025,
          -0.9072185481870105
         ],
         "y": [
          -0.7996802242733504,
          -1.0020341115654765
         ],
         "z": [
          -0.13344778068827742,
          -0.04775838118985839
         ]
        },
        {
         "line": {
          "color": "#2a788e",
          "width": 3
         },
         "mode": "lines",
         "showlegend": false,
         "type": "scatter3d",
         "x": [
          -1.110513077272291,
          -0.9072185481870105
         ],
         "y": [
          -0.738602585958364,
          -1.0020341115654765
         ],
         "z": [
          0.16561699263624183,
          -0.04775838118985839
         ]
        },
        {
         "line": {
          "color": "#2a788e",
          "width": 3
         },
         "mode": "lines",
         "showlegend": false,
         "type": "scatter3d",
         "x": [
          -1.198033677926949,
          -0.9072185481870105
         ],
         "y": [
          -0.6417545198150229,
          -1.0020341115654765
         ],
         "z": [
          -0.295359511353624,
          -0.04775838118985839
         ]
        },
        {
         "line": {
          "color": "#2a788e",
          "width": 3
         },
         "mode": "lines",
         "showlegend": false,
         "type": "scatter3d",
         "x": [
          -0.4700538111563692,
          -0.9072185481870105
         ],
         "y": [
          -0.6489497762984302,
          -1.0020341115654765
         ],
         "z": [
          0.06137585023524623,
          -0.04775838118985839
         ]
        },
        {
         "line": {
          "color": "#2a788e",
          "width": 3
         },
         "mode": "lines",
         "showlegend": false,
         "type": "scatter3d",
         "x": [
          -0.7924250400565386,
          -0.9072185481870105
         ],
         "y": [
          -0.6661725305059173,
          -1.0020341115654765
         ],
         "z": [
          0.22128735447602796,
          -0.04775838118985839
         ]
        },
        {
         "line": {
          "color": "#22a884",
          "width": 3
         },
         "mode": "lines",
         "showlegend": false,
         "type": "scatter3d",
         "x": [
          0.4427632542496292,
          0.6456700134248061
         ],
         "y": [
          0.35300739471731357,
          0.8131134941598692
         ],
         "z": [
          0.14828974120544633,
          0.5539118528092956
         ]
        },
        {
         "line": {
          "color": "#22a884",
          "width": 3
         },
         "mode": "lines",
         "showlegend": false,
         "type": "scatter3d",
         "x": [
          1.4438529166721092,
          0.6456700134248061
         ],
         "y": [
          0.40788131825521495,
          0.8131134941598692
         ],
         "z": [
          0.06632480477315883,
          0.5539118528092956
         ]
        },
        {
         "line": {
          "color": "#22a884",
          "width": 3
         },
         "mode": "lines",
         "showlegend": false,
         "type": "scatter3d",
         "x": [
          1.0487448957311436,
          0.6456700134248061
         ],
         "y": [
          0.3876015289566959,
          0.8131134941598692
         ],
         "z": [
          0.5094964903332388,
          0.5539118528092956
         ]
        },
        {
         "line": {
          "color": "#22a884",
          "width": 3
         },
         "mode": "lines",
         "showlegend": false,
         "type": "scatter3d",
         "x": [
          0.14753289440202677,
          0.6456700134248061
         ],
         "y": [
          0.39598655559814544,
          0.8131134941598692
         ],
         "z": [
          1.4969123325632077,
          0.5539118528092956
         ]
        },
        {
         "line": {
          "color": "#22a884",
          "width": 3
         },
         "mode": "lines",
         "showlegend": false,
         "type": "scatter3d",
         "x": [
          0.9003841535920238,
          0.6456700134248061
         ],
         "y": [
          0.3587653348621604,
          0.8131134941598692
         ],
         "z": [
          0.6501823485775261,
          0.5539118528092956
         ]
        },
        {
         "line": {
          "color": "#22a884",
          "width": 3
         },
         "mode": "lines",
         "showlegend": false,
         "type": "scatter3d",
         "x": [
          0.02105256418981701,
          0.6456700134248061
         ],
         "y": [
          0.4161719179884129,
          0.8131134941598692
         ],
         "z": [
          1.4351489936742918,
          0.5539118528092956
         ]
        },
        {
         "line": {
          "color": "#22a884",
          "width": 3
         },
         "mode": "lines",
         "showlegend": false,
         "type": "scatter3d",
         "x": [
          1.3991977081038351,
          0.6456700134248061
         ],
         "y": [
          0.43962064494815173,
          0.8131134941598692
         ],
         "z": [
          0.24942210169559634,
          0.5539118528092956
         ]
        },
        {
         "line": {
          "color": "#22a884",
          "width": 3
         },
         "mode": "lines",
         "showlegend": false,
         "type": "scatter3d",
         "x": [
          0.19583177801893553,
          0.6456700134248061
         ],
         "y": [
          0.5070726958154121,
          0.8131134941598692
         ],
         "z": [
          1.1942112506834863,
          0.5539118528092956
         ]
        },
        {
         "line": {
          "color": "#22a884",
          "width": 3
         },
         "mode": "lines",
         "showlegend": false,
         "type": "scatter3d",
         "x": [
          0.5944486820642598,
          0.6456700134248061
         ],
         "y": [
          0.5248926748380425,
          0.8131134941598692
         ],
         "z": [
          -0.040079946402830496,
          0.5539118528092956
         ]
        },
        {
         "line": {
          "color": "#22a884",
          "width": 3
         },
         "mode": "lines",
         "showlegend": false,
         "type": "scatter3d",
         "x": [
          0.26638755566535766,
          0.6456700134248061
         ],
         "y": [
          0.4608102423934472,
          0.8131134941598692
         ],
         "z": [
          0.7009654320994186,
          0.5539118528092956
         ]
        },
        {
         "line": {
          "color": "#22a884",
          "width": 3
         },
         "mode": "lines",
         "showlegend": false,
         "type": "scatter3d",
         "x": [
          0.7512597750602715,
          0.6456700134248061
         ],
         "y": [
          0.562673036376195,
          0.8131134941598692
         ],
         "z": [
          0.49119492367012235,
          0.5539118528092956
         ]
        },
        {
         "line": {
          "color": "#22a884",
          "width": 3
         },
         "mode": "lines",
         "showlegend": false,
         "type": "scatter3d",
         "x": [
          0.6608575978600765,
          0.6456700134248061
         ],
         "y": [
          0.481537269923946,
          0.8131134941598692
         ],
         "z": [
          0.40163365772592713,
          0.5539118528092956
         ]
        },
        {
         "line": {
          "color": "#22a884",
          "width": 3
         },
         "mode": "lines",
         "showlegend": false,
         "type": "scatter3d",
         "x": [
          0.839669178917394,
          0.6456700134248061
         ],
         "y": [
          0.49130423925342986,
          0.8131134941598692
         ],
         "z": [
          0.3767227825639766,
          0.5539118528092956
         ]
        },
        {
         "line": {
          "color": "#22a884",
          "width": 3
         },
         "mode": "lines",
         "showlegend": false,
         "type": "scatter3d",
         "x": [
          0.8204876839967092,
          0.6456700134248061
         ],
         "y": [
          0.5681898817431158,
          0.8131134941598692
         ],
         "z": [
          0.9990542538770606,
          0.5539118528092956
         ]
        },
        {
         "line": {
          "color": "#22a884",
          "width": 3
         },
         "mode": "lines",
         "showlegend": false,
         "type": "scatter3d",
         "x": [
          0.7128179481145704,
          0.6456700134248061
         ],
         "y": [
          0.5625980430846134,
          0.8131134941598692
         ],
         "z": [
          1.100304725686184,
          0.5539118528092956
         ]
        },
        {
         "line": {
          "color": "#22a884",
          "width": 3
         },
         "mode": "lines",
         "showlegend": false,
         "type": "scatter3d",
         "x": [
          0.098338088181128,
          0.6456700134248061
         ],
         "y": [
          0.612268384966605,
          0.8131134941598692
         ],
         "z": [
          1.529950487035656,
          0.5539118528092956
         ]
        },
        {
         "line": {
          "color": "#22a884",
          "width": 3
         },
         "mode": "lines",
         "showlegend": false,
         "type": "scatter3d",
         "x": [
          0.830778224663447,
          0.6456700134248061
         ],
         "y": [
          0.7572041695424578,
          0.8131134941598692
         ],
         "z": [
          0.08255672787842665,
          0.5539118528092956
         ]
        },
        {
         "line": {
          "color": "#22a884",
          "width": 3
         },
         "mode": "lines",
         "showlegend": false,
         "type": "scatter3d",
         "x": [
          0.6487085849579886,
          0.6456700134248061
         ],
         "y": [
          0.7758235177414186,
          0.8131134941598692
         ],
         "z": [
          0.466978380657191,
          0.5539118528092956
         ]
        },
        {
         "line": {
          "color": "#22a884",
          "width": 3
         },
         "mode": "lines",
         "showlegend": false,
         "type": "scatter3d",
         "x": [
          0.23427206707510093,
          0.6456700134248061
         ],
         "y": [
          0.7047332190301773,
          0.8131134941598692
         ],
         "z": [
          0.5372396186041201,
          0.5539118528092956
         ]
        },
        {
         "line": {
          "color": "#22a884",
          "width": 3
         },
         "mode": "lines",
         "showlegend": false,
         "type": "scatter3d",
         "x": [
          0.6997638783106025,
          0.6456700134248061
         ],
         "y": [
          0.8066703259251293,
          0.8131134941598692
         ],
         "z": [
          0.6679839889795017,
          0.5539118528092956
         ]
        },
        {
         "line": {
          "color": "#22a884",
          "width": 3
         },
         "mode": "lines",
         "showlegend": false,
         "type": "scatter3d",
         "x": [
          0.609560614349135,
          0.6456700134248061
         ],
         "y": [
          0.8023458890503622,
          0.8131134941598692
         ],
         "z": [
          0.8602393155437127,
          0.5539118528092956
         ]
        },
        {
         "line": {
          "color": "#22a884",
          "width": 3
         },
         "mode": "lines",
         "showlegend": false,
         "type": "scatter3d",
         "x": [
          1.0558440047771107,
          0.6456700134248061
         ],
         "y": [
          0.7764375378391203,
          0.8131134941598692
         ],
         "z": [
          0.264336690204243,
          0.5539118528092956
         ]
        },
        {
         "line": {
          "color": "#22a884",
          "width": 3
         },
         "mode": "lines",
         "showlegend": false,
         "type": "scatter3d",
         "x": [
          1.3085482592333226,
          0.6456700134248061
         ],
         "y": [
          0.8654020144891483,
          0.8131134941598692
         ],
         "z": [
          0.022222359451517362,
          0.5539118528092956
         ]
        },
        {
         "line": {
          "color": "#22a884",
          "width": 3
         },
         "mode": "lines",
         "showlegend": false,
         "type": "scatter3d",
         "x": [
          1.3539080735752143,
          0.6456700134248061
         ],
         "y": [
          1.0046508531188698,
          0.8131134941598692
         ],
         "z": [
          0.007112099595315741,
          0.5539118528092956
         ]
        },
        {
         "line": {
          "color": "#22a884",
          "width": 3
         },
         "mode": "lines",
         "showlegend": false,
         "type": "scatter3d",
         "x": [
          0.164603554741608,
          0.6456700134248061
         ],
         "y": [
          0.9740604713959017,
          0.8131134941598692
         ],
         "z": [
          0.4071749620288719,
          0.5539118528092956
         ]
        },
        {
         "line": {
          "color": "#22a884",
          "width": 3
         },
         "mode": "lines",
         "showlegend": false,
         "type": "scatter3d",
         "x": [
          0.8612381978795352,
          0.6456700134248061
         ],
         "y": [
          1.115716879340089,
          0.8131134941598692
         ],
         "z": [
          0.4263342431914367,
          0.5539118528092956
         ]
        },
        {
         "line": {
          "color": "#22a884",
          "width": 3
         },
         "mode": "lines",
         "showlegend": false,
         "type": "scatter3d",
         "x": [
          0.18033874996285026,
          0.6456700134248061
         ],
         "y": [
          1.0287462214966778,
          0.8131134941598692
         ],
         "z": [
          0.13840203811817317,
          0.5539118528092956
         ]
        },
        {
         "line": {
          "color": "#22a884",
          "width": 3
         },
         "mode": "lines",
         "showlegend": false,
         "type": "scatter3d",
         "x": [
          0.9103633012939928,
          0.6456700134248061
         ],
         "y": [
          1.1231707062633585,
          0.8131134941598692
         ],
         "z": [
          -0.014254519660444671,
          0.5539118528092956
         ]
        },
        {
         "line": {
          "color": "#22a884",
          "width": 3
         },
         "mode": "lines",
         "showlegend": false,
         "type": "scatter3d",
         "x": [
          0.5649664512962411,
          0.6456700134248061
         ],
         "y": [
          1.1607823279810554,
          0.8131134941598692
         ],
         "z": [
          0.5579138182789943,
          0.5539118528092956
         ]
        },
        {
         "line": {
          "color": "#22a884",
          "width": 3
         },
         "mode": "lines",
         "showlegend": false,
         "type": "scatter3d",
         "x": [
          0.2070242998084823,
          0.6456700134248061
         ],
         "y": [
          1.1414720084380778,
          0.8131134941598692
         ],
         "z": [
          0.6796555241961897,
          0.5539118528092956
         ]
        },
        {
         "line": {
          "color": "#22a884",
          "width": 3
         },
         "mode": "lines",
         "showlegend": false,
         "type": "scatter3d",
         "x": [
          0.49422089470898173,
          0.6456700134248061
         ],
         "y": [
          1.5078153863882213,
          0.8131134941598692
         ],
         "z": [
          0.9973455765853293,
          0.5539118528092956
         ]
        },
        {
         "line": {
          "color": "#22a884",
          "width": 3
         },
         "mode": "lines",
         "showlegend": false,
         "type": "scatter3d",
         "x": [
          0.7698184840514185,
          0.6456700134248061
         ],
         "y": [
          1.6365695610902211,
          0.8131134941598692
         ],
         "z": [
          0.3729847678783645,
          0.5539118528092956
         ]
        },
        {
         "line": {
          "color": "#22a884",
          "width": 3
         },
         "mode": "lines",
         "showlegend": false,
         "type": "scatter3d",
         "x": [
          0.47463445390931674,
          0.6456700134248061
         ],
         "y": [
          1.7839256083292454,
          0.8131134941598692
         ],
         "z": [
          0.21093229037831673,
          0.5539118528092956
         ]
        },
        {
         "line": {
          "color": "#22a884",
          "width": 3
         },
         "mode": "lines",
         "showlegend": false,
         "type": "scatter3d",
         "x": [
          0.24056168702976413,
          0.6456700134248061
         ],
         "y": [
          2.1499509402551475,
          0.8131134941598692
         ],
         "z": [
          0.8381107338453264,
          0.5539118528092956
         ]
        },
        {
         "line": {
          "color": "#7ad151",
          "width": 3
         },
         "mode": "lines",
         "showlegend": false,
         "type": "scatter3d",
         "x": [
          -0.6934560024806802,
          -0.8304910538857649
         ],
         "y": [
          0.23256333654858066,
          0.6653029823889521
         ],
         "z": [
          -0.7852859820768281,
          -0.4038666763283246
         ]
        },
        {
         "line": {
          "color": "#7ad151",
          "width": 3
         },
         "mode": "lines",
         "showlegend": false,
         "type": "scatter3d",
         "x": [
          -0.8061776571153048,
          -0.8304910538857649
         ],
         "y": [
          0.17966458142099026,
          0.6653029823889521
         ],
         "z": [
          -0.24674154719282573,
          -0.4038666763283246
         ]
        },
        {
         "line": {
          "color": "#7ad151",
          "width": 3
         },
         "mode": "lines",
         "showlegend": false,
         "type": "scatter3d",
         "x": [
          -0.7320341592601926,
          -0.8304910538857649
         ],
         "y": [
          0.2847885959940902,
          0.6653029823889521
         ],
         "z": [
          -0.8955537366930236,
          -0.4038666763283246
         ]
        },
        {
         "line": {
          "color": "#7ad151",
          "width": 3
         },
         "mode": "lines",
         "showlegend": false,
         "type": "scatter3d",
         "x": [
          -0.4481047573057241,
          -0.8304910538857649
         ],
         "y": [
          0.30193635690999554,
          0.6653029823889521
         ],
         "z": [
          -0.4463554389177436,
          -0.4038666763283246
         ]
        },
        {
         "line": {
          "color": "#7ad151",
          "width": 3
         },
         "mode": "lines",
         "showlegend": false,
         "type": "scatter3d",
         "x": [
          -0.4122148453450112,
          -0.8304910538857649
         ],
         "y": [
          0.30380030312949635,
          0.6653029823889521
         ],
         "z": [
          -0.4801055961874514,
          -0.4038666763283246
         ]
        },
        {
         "line": {
          "color": "#7ad151",
          "width": 3
         },
         "mode": "lines",
         "showlegend": false,
         "type": "scatter3d",
         "x": [
          -0.7027911129175829,
          -0.8304910538857649
         ],
         "y": [
          0.24046372132445246,
          0.6653029823889521
         ],
         "z": [
          -0.1324101529213813,
          -0.4038666763283246
         ]
        },
        {
         "line": {
          "color": "#7ad151",
          "width": 3
         },
         "mode": "lines",
         "showlegend": false,
         "type": "scatter3d",
         "x": [
          -1.078586890616042,
          -0.8304910538857649
         ],
         "y": [
          0.2462597454822749,
          0.6653029823889521
         ],
         "z": [
          -0.38944212448210785,
          -0.4038666763283246
         ]
        },
        {
         "line": {
          "color": "#7ad151",
          "width": 3
         },
         "mode": "lines",
         "showlegend": false,
         "type": "scatter3d",
         "x": [
          -0.6311995300474587,
          -0.8304910538857649
         ],
         "y": [
          0.3473766888254714,
          0.6653029823889521
         ],
         "z": [
          -0.20586269767522514,
          -0.4038666763283246
         ]
        },
        {
         "line": {
          "color": "#7ad151",
          "width": 3
         },
         "mode": "lines",
         "showlegend": false,
         "type": "scatter3d",
         "x": [
          -0.5803431499335723,
          -0.8304910538857649
         ],
         "y": [
          0.3014121674317004,
          0.6653029823889521
         ],
         "z": [
          -0.2866736818613205,
          -0.4038666763283246
         ]
        },
        {
         "line": {
          "color": "#7ad151",
          "width": 3
         },
         "mode": "lines",
         "showlegend": false,
         "type": "scatter3d",
         "x": [
          -0.9902349794883996,
          -0.8304910538857649
         ],
         "y": [
          0.3810374793675545,
          0.6653029823889521
         ],
         "z": [
          -0.5877386816104045,
          -0.4038666763283246
         ]
        },
        {
         "line": {
          "color": "#7ad151",
          "width": 3
         },
         "mode": "lines",
         "showlegend": false,
         "type": "scatter3d",
         "x": [
          -0.9581210287876782,
          -0.8304910538857649
         ],
         "y": [
          0.33470003265400783,
          0.6653029823889521
         ],
         "z": [
          -0.4718746981784103,
          -0.4038666763283246
         ]
        },
        {
         "line": {
          "color": "#7ad151",
          "width": 3
         },
         "mode": "lines",
         "showlegend": false,
         "type": "scatter3d",
         "x": [
          -1.2082626960714766,
          -0.8304910538857649
         ],
         "y": [
          0.42394300771555987,
          0.6653029823889521
         ],
         "z": [
          -0.5292556498780612,
          -0.4038666763283246
         ]
        },
        {
         "line": {
          "color": "#7ad151",
          "width": 3
         },
         "mode": "lines",
         "showlegend": false,
         "type": "scatter3d",
         "x": [
          -0.7285731437508702,
          -0.8304910538857649
         ],
         "y": [
          0.3755374292831924,
          0.6653029823889521
         ],
         "z": [
          -0.22386000942475587,
          -0.4038666763283246
         ]
        },
        {
         "line": {
          "color": "#7ad151",
          "width": 3
         },
         "mode": "lines",
         "showlegend": false,
         "type": "scatter3d",
         "x": [
          -0.8700881070331592,
          -0.8304910538857649
         ],
         "y": [
          0.46970138565527725,
          0.6653029823889521
         ],
         "z": [
          -0.5982512997134127,
          -0.4038666763283246
         ]
        },
        {
         "line": {
          "color": "#7ad151",
          "width": 3
         },
         "mode": "lines",
         "showlegend": false,
         "type": "scatter3d",
         "x": [
          -0.6550676246420051,
          -0.8304910538857649
         ],
         "y": [
          0.481108682088272,
          0.6653029823889521
         ],
         "z": [
          -0.7288322877383653,
          -0.4038666763283246
         ]
        },
        {
         "line": {
          "color": "#7ad151",
          "width": 3
         },
         "mode": "lines",
         "showlegend": false,
         "type": "scatter3d",
         "x": [
          -0.5504677063567053,
          -0.8304910538857649
         ],
         "y": [
          0.41190176321320154,
          0.6653029823889521
         ],
         "z": [
          -0.4646197517162466,
          -0.4038666763283246
         ]
        },
        {
         "line": {
          "color": "#7ad151",
          "width": 3
         },
         "mode": "lines",
         "showlegend": false,
         "type": "scatter3d",
         "x": [
          -1.1764677347438788,
          -0.8304910538857649
         ],
         "y": [
          0.3778291801180031,
          0.6653029823889521
         ],
         "z": [
          -0.34147171085277256,
          -0.4038666763283246
         ]
        },
        {
         "line": {
          "color": "#7ad151",
          "width": 3
         },
         "mode": "lines",
         "showlegend": false,
         "type": "scatter3d",
         "x": [
          -0.8731579246299981,
          -0.8304910538857649
         ],
         "y": [
          0.39490262812170435,
          0.6653029823889521
         ],
         "z": [
          -0.23278829188217057,
          -0.4038666763283246
         ]
        },
        {
         "line": {
          "color": "#7ad151",
          "width": 3
         },
         "mode": "lines",
         "showlegend": false,
         "type": "scatter3d",
         "x": [
          -0.7842306181610246,
          -0.8304910538857649
         ],
         "y": [
          0.4001215414604311,
          0.6653029823889521
         ],
         "z": [
          -0.13736379607320445,
          -0.4038666763283246
         ]
        },
        {
         "line": {
          "color": "#7ad151",
          "width": 3
         },
         "mode": "lines",
         "showlegend": false,
         "type": "scatter3d",
         "x": [
          -0.9996382548422079,
          -0.8304910538857649
         ],
         "y": [
          0.41508799051197176,
          0.6653029823889521
         ],
         "z": [
          -0.2945516307710863,
          -0.4038666763283246
         ]
        },
        {
         "line": {
          "color": "#7ad151",
          "width": 3
         },
         "mode": "lines",
         "showlegend": false,
         "type": "scatter3d",
         "x": [
          -1.1090392674237757,
          -0.8304910538857649
         ],
         "y": [
          0.4629145001705101,
          0.6653029823889521
         ],
         "z": [
          -0.5530789376277491,
          -0.4038666763283246
         ]
        },
        {
         "line": {
          "color": "#7ad151",
          "width": 3
         },
         "mode": "lines",
         "showlegend": false,
         "type": "scatter3d",
         "x": [
          -0.616103851461999,
          -0.8304910538857649
         ],
         "y": [
          0.6000952070814105,
          0.6653029823889521
         ],
         "z": [
          -0.3786575404626397,
          -0.4038666763283246
         ]
        },
        {
         "line": {
          "color": "#7ad151",
          "width": 3
         },
         "mode": "lines",
         "showlegend": false,
         "type": "scatter3d",
         "x": [
          -1.0811459250025552,
          -0.8304910538857649
         ],
         "y": [
          0.6008959370164961,
          0.6653029823889521
         ],
         "z": [
          -0.6591940522390384,
          -0.4038666763283246
         ]
        },
        {
         "line": {
          "color": "#7ad151",
          "width": 3
         },
         "mode": "lines",
         "showlegend": false,
         "type": "scatter3d",
         "x": [
          -0.47662848206483677,
          -0.8304910538857649
         ],
         "y": [
          0.7395696227818553,
          0.6653029823889521
         ],
         "z": [
          -0.016259710952496984,
          -0.4038666763283246
         ]
        },
        {
         "line": {
          "color": "#7ad151",
          "width": 3
         },
         "mode": "lines",
         "showlegend": false,
         "type": "scatter3d",
         "x": [
          -0.8336136654332251,
          -0.8304910538857649
         ],
         "y": [
          0.719588445890908,
          0.6653029823889521
         ],
         "z": [
          -0.11027787181518448,
          -0.4038666763283246
         ]
        },
        {
         "line": {
          "color": "#7ad151",
          "width": 3
         },
         "mode": "lines",
         "showlegend": false,
         "type": "scatter3d",
         "x": [
          -0.8488472117420318,
          -0.8304910538857649
         ],
         "y": [
          0.7167557102952434,
          0.6653029823889521
         ],
         "z": [
          -0.7047224157233317,
          -0.4038666763283246
         ]
        },
        {
         "line": {
          "color": "#7ad151",
          "width": 3
         },
         "mode": "lines",
         "showlegend": false,
         "type": "scatter3d",
         "x": [
          -1.032072732805588,
          -0.8304910538857649
         ],
         "y": [
          0.6592345862646919,
          0.6653029823889521
         ],
         "z": [
          -0.38635748867309067,
          -0.4038666763283246
         ]
        },
        {
         "line": {
          "color": "#7ad151",
          "width": 3
         },
         "mode": "lines",
         "showlegend": false,
         "type": "scatter3d",
         "x": [
          -0.764453921413693,
          -0.8304910538857649
         ],
         "y": [
          0.7512554176263743,
          0.6653029823889521
         ],
         "z": [
          0.037892680075625254,
          -0.4038666763283246
         ]
        },
        {
         "line": {
          "color": "#7ad151",
          "width": 3
         },
         "mode": "lines",
         "showlegend": false,
         "type": "scatter3d",
         "x": [
          -0.8591448718102946,
          -0.8304910538857649
         ],
         "y": [
          0.8805886611022036,
          0.6653029823889521
         ],
         "z": [
          -0.6333364622279821,
          -0.4038666763283246
         ]
        },
        {
         "line": {
          "color": "#7ad151",
          "width": 3
         },
         "mode": "lines",
         "showlegend": false,
         "type": "scatter3d",
         "x": [
          -0.9752609149268713,
          -0.8304910538857649
         ],
         "y": [
          0.9083764762401487,
          0.6653029823889521
         ],
         "z": [
          -0.45465880635942313,
          -0.4038666763283246
         ]
        },
        {
         "line": {
          "color": "#7ad151",
          "width": 3
         },
         "mode": "lines",
         "showlegend": false,
         "type": "scatter3d",
         "x": [
          -1.1201646851791227,
          -0.8304910538857649
         ],
         "y": [
          0.9279652941946506,
          0.6653029823889521
         ],
         "z": [
          -0.39166713322354363,
          -0.4038666763283246
         ]
        },
        {
         "line": {
          "color": "#7ad151",
          "width": 3
         },
         "mode": "lines",
         "showlegend": false,
         "type": "scatter3d",
         "x": [
          -1.1730713313655616,
          -0.8304910538857649
         ],
         "y": [
          1.0275717830214524,
          0.6653029823889521
         ],
         "z": [
          -0.5987139721099403,
          -0.4038666763283246
         ]
        },
        {
         "line": {
          "color": "#7ad151",
          "width": 3
         },
         "mode": "lines",
         "showlegend": false,
         "type": "scatter3d",
         "x": [
          -0.7323990013319872,
          -0.8304910538857649
         ],
         "y": [
          1.1086500318440557,
          0.6653029823889521
         ],
         "z": [
          0.022070417422164045,
          -0.4038666763283246
         ]
        },
        {
         "line": {
          "color": "#7ad151",
          "width": 3
         },
         "mode": "lines",
         "showlegend": false,
         "type": "scatter3d",
         "x": [
          -0.8238944764853642,
          -0.8304910538857649
         ],
         "y": [
          1.0804853754768677,
          0.6653029823889521
         ],
         "z": [
          -0.5711085383744058,
          -0.4038666763283246
         ]
        },
        {
         "line": {
          "color": "#7ad151",
          "width": 3
         },
         "mode": "lines",
         "showlegend": false,
         "type": "scatter3d",
         "x": [
          -0.6828867436275006,
          -0.8304910538857649
         ],
         "y": [
          1.0897301132827901,
          0.6653029823889521
         ],
         "z": [
          -0.130749522706883,
          -0.4038666763283246
         ]
        },
        {
         "line": {
          "color": "#7ad151",
          "width": 3
         },
         "mode": "lines",
         "showlegend": false,
         "type": "scatter3d",
         "x": [
          -0.8754585381519389,
          -0.8304910538857649
         ],
         "y": [
          1.3506327913943474,
          0.6653029823889521
         ],
         "z": [
          -0.754008251381155,
          -0.4038666763283246
         ]
        },
        {
         "line": {
          "color": "#7ad151",
          "width": 3
         },
         "mode": "lines",
         "showlegend": false,
         "type": "scatter3d",
         "x": [
          -0.7813445209862038,
          -0.8304910538857649
         ],
         "y": [
          1.5484438983882542,
          0.6653029823889521
         ],
         "z": [
          -0.4243619920781149,
          -0.4038666763283246
         ]
        },
        {
         "line": {
          "color": "#7ad151",
          "width": 3
         },
         "mode": "lines",
         "showlegend": false,
         "type": "scatter3d",
         "x": [
          -0.7371299158149844,
          -0.8304910538857649
         ],
         "y": [
          1.7915486694279628,
          0.6653029823889521
         ],
         "z": [
          -0.22966461536886226,
          -0.4038666763283246
         ]
        },
        {
         "line": {
          "color": "#7ad151",
          "width": 3
         },
         "mode": "lines",
         "showlegend": false,
         "type": "scatter3d",
         "x": [
          -0.9872731209883183,
          -0.8304910538857649
         ],
         "y": [
          2.0783771744126986,
          0.6653029823889521
         ],
         "z": [
          -0.3349073971318175,
          -0.4038666763283246
         ]
        },
        {
         "line": {
          "color": "#fde725",
          "width": 3
         },
         "mode": "lines",
         "showlegend": false,
         "type": "scatter3d",
         "x": [
          0.15160909943253198,
          0.8403487034609608
         ],
         "y": [
          -1.2392142428023307,
          -0.8947068569814236
         ],
         "z": [
          1.4843440421427803,
          0.3660719589503791
         ]
        },
        {
         "line": {
          "color": "#fde725",
          "width": 3
         },
         "mode": "lines",
         "showlegend": false,
         "type": "scatter3d",
         "x": [
          -0.059970664771169156,
          0.8403487034609608
         ],
         "y": [
          -1.2269312231426686,
          -0.8947068569814236
         ],
         "z": [
          0.4641167403253674,
          0.3660719589503791
         ]
        },
        {
         "line": {
          "color": "#fde725",
          "width": 3
         },
         "mode": "lines",
         "showlegend": false,
         "type": "scatter3d",
         "x": [
          0.6866315552781795,
          0.8403487034609608
         ],
         "y": [
          -1.1567186056128285,
          -0.8947068569814236
         ],
         "z": [
          0.9779136823978483,
          0.3660719589503791
         ]
        },
        {
         "line": {
          "color": "#fde725",
          "width": 3
         },
         "mode": "lines",
         "showlegend": false,
         "type": "scatter3d",
         "x": [
          1.8520679795172394,
          0.8403487034609608
         ],
         "y": [
          -0.9923962306270598,
          -0.8947068569814236
         ],
         "z": [
          0.054881229901152205,
          0.3660719589503791
         ]
        },
        {
         "line": {
          "color": "#fde725",
          "width": 3
         },
         "mode": "lines",
         "showlegend": false,
         "type": "scatter3d",
         "x": [
          1.7640976411676368,
          0.8403487034609608
         ],
         "y": [
          -0.9982860013137563,
          -0.8947068569814236
         ],
         "z": [
          -0.25630313268769683,
          0.3660719589503791
         ]
        },
        {
         "line": {
          "color": "#fde725",
          "width": 3
         },
         "mode": "lines",
         "showlegend": false,
         "type": "scatter3d",
         "x": [
          1.3487041551653782,
          0.8403487034609608
         ],
         "y": [
          -1.0687054426770277,
          -0.8947068569814236
         ],
         "z": [
          0.029717972039115043,
          0.3660719589503791
         ]
        },
        {
         "line": {
          "color": "#fde725",
          "width": 3
         },
         "mode": "lines",
         "showlegend": false,
         "type": "scatter3d",
         "x": [
          0.70352263185752,
          0.8403487034609608
         ],
         "y": [
          -1.0258923832825404,
          -0.8947068569814236
         ],
         "z": [
          0.775197484215673,
          0.3660719589503791
         ]
        },
        {
         "line": {
          "color": "#fde725",
          "width": 3
         },
         "mode": "lines",
         "showlegend": false,
         "type": "scatter3d",
         "x": [
          0.16586384241056323,
          0.8403487034609608
         ],
         "y": [
          -1.1051836371319583,
          -0.8947068569814236
         ],
         "z": [
          0.42418460565687266,
          0.3660719589503791
         ]
        },
        {
         "line": {
          "color": "#fde725",
          "width": 3
         },
         "mode": "lines",
         "showlegend": false,
         "type": "scatter3d",
         "x": [
          0.9523145952199289,
          0.8403487034609608
         ],
         "y": [
          -0.9328290468284686,
          -0.8947068569814236
         ],
         "z": [
          -0.03668026246760774,
          0.3660719589503791
         ]
        },
        {
         "line": {
          "color": "#fde725",
          "width": 3
         },
         "mode": "lines",
         "showlegend": false,
         "type": "scatter3d",
         "x": [
          0.2338102123425174,
          0.8403487034609608
         ],
         "y": [
          -0.9435106066179596,
          -0.8947068569814236
         ],
         "z": [
          0.42247401579700805,
          0.3660719589503791
         ]
        },
        {
         "line": {
          "color": "#fde725",
          "width": 3
         },
         "mode": "lines",
         "showlegend": false,
         "type": "scatter3d",
         "x": [
          1.087564265662154,
          0.8403487034609608
         ],
         "y": [
          -0.9442938608911088,
          -0.8947068569814236
         ],
         "z": [
          0.6251238491452538,
          0.3660719589503791
         ]
        },
        {
         "line": {
          "color": "#fde725",
          "width": 3
         },
         "mode": "lines",
         "showlegend": false,
         "type": "scatter3d",
         "x": [
          1.2096250743561354,
          0.8403487034609608
         ],
         "y": [
          -0.8569716692993253,
          -0.8947068569814236
         ],
         "z": [
          0.18309149748248008,
          0.3660719589503791
         ]
        },
        {
         "line": {
          "color": "#fde725",
          "width": 3
         },
         "mode": "lines",
         "showlegend": false,
         "type": "scatter3d",
         "x": [
          0.5664775634214141,
          0.8403487034609608
         ],
         "y": [
          -0.892535273294249,
          -0.8947068569814236
         ],
         "z": [
          0.14331472799757222,
          0.3660719589503791
         ]
        },
        {
         "line": {
          "color": "#fde725",
          "width": 3
         },
         "mode": "lines",
         "showlegend": false,
         "type": "scatter3d",
         "x": [
          0.403150353129121,
          0.8403487034609608
         ],
         "y": [
          -0.8735429997755126,
          -0.8947068569814236
         ],
         "z": [
          0.33106141315824705,
          0.3660719589503791
         ]
        },
        {
         "line": {
          "color": "#fde725",
          "width": 3
         },
         "mode": "lines",
         "showlegend": false,
         "type": "scatter3d",
         "x": [
          1.6724286407728375,
          0.8403487034609608
         ],
         "y": [
          -0.7009453567393631,
          -0.8947068569814236
         ],
         "z": [
          0.16981795597195842,
          0.3660719589503791
         ]
        },
        {
         "line": {
          "color": "#fde725",
          "width": 3
         },
         "mode": "lines",
         "showlegend": false,
         "type": "scatter3d",
         "x": [
          1.4162099217002773,
          0.8403487034609608
         ],
         "y": [
          -0.6321883144303837,
          -0.8947068569814236
         ],
         "z": [
          0.4058020558109406,
          0.3660719589503791
         ]
        },
        {
         "line": {
          "color": "#fde725",
          "width": 3
         },
         "mode": "lines",
         "showlegend": false,
         "type": "scatter3d",
         "x": [
          1.0218599556399546,
          0.8403487034609608
         ],
         "y": [
          -0.7299502906543542,
          -0.8947068569814236
         ],
         "z": [
          0.3513972820827319,
          0.3660719589503791
         ]
        },
        {
         "line": {
          "color": "#fde725",
          "width": 3
         },
         "mode": "lines",
         "showlegend": false,
         "type": "scatter3d",
         "x": [
          0.7156110762510567,
          0.8403487034609608
         ],
         "y": [
          -0.718861040245601,
          -0.8947068569814236
         ],
         "z": [
          0.5303046851356494,
          0.3660719589503791
         ]
        },
        {
         "line": {
          "color": "#fde725",
          "width": 3
         },
         "mode": "lines",
         "showlegend": false,
         "type": "scatter3d",
         "x": [
          0.335213117495057,
          0.8403487034609608
         ],
         "y": [
          -0.657634095726829,
          -0.8947068569814236
         ],
         "z": [
          0.5607745352487848,
          0.3660719589503791
         ]
        },
        {
         "line": {
          "color": "#fde725",
          "width": 3
         },
         "mode": "lines",
         "showlegend": false,
         "type": "scatter3d",
         "x": [
          0.6576469298001425,
          0.8403487034609608
         ],
         "y": [
          -0.5112997592047688,
          -0.8947068569814236
         ],
         "z": [
          -0.0366979331158481,
          0.3660719589503791
         ]
        },
        {
         "line": {
          "color": "#fde725",
          "width": 3
         },
         "mode": "lines",
         "showlegend": false,
         "type": "scatter3d",
         "x": [
          0.7628848268316892,
          0.8403487034609608
         ],
         "y": [
          -0.580953916311819,
          -0.8947068569814236
         ],
         "z": [
          0.0836746917196821,
          0.3660719589503791
         ]
        }
       ],
       "layout": {
        "height": 1000,
        "scene": {
         "xaxis": {
          "title": {
           "text": "pca0"
          }
         },
         "yaxis": {
          "title": {
           "text": "pca1"
          }
         },
         "zaxis": {
          "title": {
           "text": "pca2"
          }
         }
        },
        "template": {
         "data": {
          "bar": [
           {
            "error_x": {
             "color": "#2a3f5f"
            },
            "error_y": {
             "color": "#2a3f5f"
            },
            "marker": {
             "line": {
              "color": "#E5ECF6",
              "width": 0.5
             },
             "pattern": {
              "fillmode": "overlay",
              "size": 10,
              "solidity": 0.2
             }
            },
            "type": "bar"
           }
          ],
          "barpolar": [
           {
            "marker": {
             "line": {
              "color": "#E5ECF6",
              "width": 0.5
             },
             "pattern": {
              "fillmode": "overlay",
              "size": 10,
              "solidity": 0.2
             }
            },
            "type": "barpolar"
           }
          ],
          "carpet": [
           {
            "aaxis": {
             "endlinecolor": "#2a3f5f",
             "gridcolor": "white",
             "linecolor": "white",
             "minorgridcolor": "white",
             "startlinecolor": "#2a3f5f"
            },
            "baxis": {
             "endlinecolor": "#2a3f5f",
             "gridcolor": "white",
             "linecolor": "white",
             "minorgridcolor": "white",
             "startlinecolor": "#2a3f5f"
            },
            "type": "carpet"
           }
          ],
          "choropleth": [
           {
            "colorbar": {
             "outlinewidth": 0,
             "ticks": ""
            },
            "type": "choropleth"
           }
          ],
          "contour": [
           {
            "colorbar": {
             "outlinewidth": 0,
             "ticks": ""
            },
            "colorscale": [
             [
              0,
              "#0d0887"
             ],
             [
              0.1111111111111111,
              "#46039f"
             ],
             [
              0.2222222222222222,
              "#7201a8"
             ],
             [
              0.3333333333333333,
              "#9c179e"
             ],
             [
              0.4444444444444444,
              "#bd3786"
             ],
             [
              0.5555555555555556,
              "#d8576b"
             ],
             [
              0.6666666666666666,
              "#ed7953"
             ],
             [
              0.7777777777777778,
              "#fb9f3a"
             ],
             [
              0.8888888888888888,
              "#fdca26"
             ],
             [
              1,
              "#f0f921"
             ]
            ],
            "type": "contour"
           }
          ],
          "contourcarpet": [
           {
            "colorbar": {
             "outlinewidth": 0,
             "ticks": ""
            },
            "type": "contourcarpet"
           }
          ],
          "heatmap": [
           {
            "colorbar": {
             "outlinewidth": 0,
             "ticks": ""
            },
            "colorscale": [
             [
              0,
              "#0d0887"
             ],
             [
              0.1111111111111111,
              "#46039f"
             ],
             [
              0.2222222222222222,
              "#7201a8"
             ],
             [
              0.3333333333333333,
              "#9c179e"
             ],
             [
              0.4444444444444444,
              "#bd3786"
             ],
             [
              0.5555555555555556,
              "#d8576b"
             ],
             [
              0.6666666666666666,
              "#ed7953"
             ],
             [
              0.7777777777777778,
              "#fb9f3a"
             ],
             [
              0.8888888888888888,
              "#fdca26"
             ],
             [
              1,
              "#f0f921"
             ]
            ],
            "type": "heatmap"
           }
          ],
          "heatmapgl": [
           {
            "colorbar": {
             "outlinewidth": 0,
             "ticks": ""
            },
            "colorscale": [
             [
              0,
              "#0d0887"
             ],
             [
              0.1111111111111111,
              "#46039f"
             ],
             [
              0.2222222222222222,
              "#7201a8"
             ],
             [
              0.3333333333333333,
              "#9c179e"
             ],
             [
              0.4444444444444444,
              "#bd3786"
             ],
             [
              0.5555555555555556,
              "#d8576b"
             ],
             [
              0.6666666666666666,
              "#ed7953"
             ],
             [
              0.7777777777777778,
              "#fb9f3a"
             ],
             [
              0.8888888888888888,
              "#fdca26"
             ],
             [
              1,
              "#f0f921"
             ]
            ],
            "type": "heatmapgl"
           }
          ],
          "histogram": [
           {
            "marker": {
             "pattern": {
              "fillmode": "overlay",
              "size": 10,
              "solidity": 0.2
             }
            },
            "type": "histogram"
           }
          ],
          "histogram2d": [
           {
            "colorbar": {
             "outlinewidth": 0,
             "ticks": ""
            },
            "colorscale": [
             [
              0,
              "#0d0887"
             ],
             [
              0.1111111111111111,
              "#46039f"
             ],
             [
              0.2222222222222222,
              "#7201a8"
             ],
             [
              0.3333333333333333,
              "#9c179e"
             ],
             [
              0.4444444444444444,
              "#bd3786"
             ],
             [
              0.5555555555555556,
              "#d8576b"
             ],
             [
              0.6666666666666666,
              "#ed7953"
             ],
             [
              0.7777777777777778,
              "#fb9f3a"
             ],
             [
              0.8888888888888888,
              "#fdca26"
             ],
             [
              1,
              "#f0f921"
             ]
            ],
            "type": "histogram2d"
           }
          ],
          "histogram2dcontour": [
           {
            "colorbar": {
             "outlinewidth": 0,
             "ticks": ""
            },
            "colorscale": [
             [
              0,
              "#0d0887"
             ],
             [
              0.1111111111111111,
              "#46039f"
             ],
             [
              0.2222222222222222,
              "#7201a8"
             ],
             [
              0.3333333333333333,
              "#9c179e"
             ],
             [
              0.4444444444444444,
              "#bd3786"
             ],
             [
              0.5555555555555556,
              "#d8576b"
             ],
             [
              0.6666666666666666,
              "#ed7953"
             ],
             [
              0.7777777777777778,
              "#fb9f3a"
             ],
             [
              0.8888888888888888,
              "#fdca26"
             ],
             [
              1,
              "#f0f921"
             ]
            ],
            "type": "histogram2dcontour"
           }
          ],
          "mesh3d": [
           {
            "colorbar": {
             "outlinewidth": 0,
             "ticks": ""
            },
            "type": "mesh3d"
           }
          ],
          "parcoords": [
           {
            "line": {
             "colorbar": {
              "outlinewidth": 0,
              "ticks": ""
             }
            },
            "type": "parcoords"
           }
          ],
          "pie": [
           {
            "automargin": true,
            "type": "pie"
           }
          ],
          "scatter": [
           {
            "fillpattern": {
             "fillmode": "overlay",
             "size": 10,
             "solidity": 0.2
            },
            "type": "scatter"
           }
          ],
          "scatter3d": [
           {
            "line": {
             "colorbar": {
              "outlinewidth": 0,
              "ticks": ""
             }
            },
            "marker": {
             "colorbar": {
              "outlinewidth": 0,
              "ticks": ""
             }
            },
            "type": "scatter3d"
           }
          ],
          "scattercarpet": [
           {
            "marker": {
             "colorbar": {
              "outlinewidth": 0,
              "ticks": ""
             }
            },
            "type": "scattercarpet"
           }
          ],
          "scattergeo": [
           {
            "marker": {
             "colorbar": {
              "outlinewidth": 0,
              "ticks": ""
             }
            },
            "type": "scattergeo"
           }
          ],
          "scattergl": [
           {
            "marker": {
             "colorbar": {
              "outlinewidth": 0,
              "ticks": ""
             }
            },
            "type": "scattergl"
           }
          ],
          "scattermapbox": [
           {
            "marker": {
             "colorbar": {
              "outlinewidth": 0,
              "ticks": ""
             }
            },
            "type": "scattermapbox"
           }
          ],
          "scatterpolar": [
           {
            "marker": {
             "colorbar": {
              "outlinewidth": 0,
              "ticks": ""
             }
            },
            "type": "scatterpolar"
           }
          ],
          "scatterpolargl": [
           {
            "marker": {
             "colorbar": {
              "outlinewidth": 0,
              "ticks": ""
             }
            },
            "type": "scatterpolargl"
           }
          ],
          "scatterternary": [
           {
            "marker": {
             "colorbar": {
              "outlinewidth": 0,
              "ticks": ""
             }
            },
            "type": "scatterternary"
           }
          ],
          "surface": [
           {
            "colorbar": {
             "outlinewidth": 0,
             "ticks": ""
            },
            "colorscale": [
             [
              0,
              "#0d0887"
             ],
             [
              0.1111111111111111,
              "#46039f"
             ],
             [
              0.2222222222222222,
              "#7201a8"
             ],
             [
              0.3333333333333333,
              "#9c179e"
             ],
             [
              0.4444444444444444,
              "#bd3786"
             ],
             [
              0.5555555555555556,
              "#d8576b"
             ],
             [
              0.6666666666666666,
              "#ed7953"
             ],
             [
              0.7777777777777778,
              "#fb9f3a"
             ],
             [
              0.8888888888888888,
              "#fdca26"
             ],
             [
              1,
              "#f0f921"
             ]
            ],
            "type": "surface"
           }
          ],
          "table": [
           {
            "cells": {
             "fill": {
              "color": "#EBF0F8"
             },
             "line": {
              "color": "white"
             }
            },
            "header": {
             "fill": {
              "color": "#C8D4E3"
             },
             "line": {
              "color": "white"
             }
            },
            "type": "table"
           }
          ]
         },
         "layout": {
          "annotationdefaults": {
           "arrowcolor": "#2a3f5f",
           "arrowhead": 0,
           "arrowwidth": 1
          },
          "autotypenumbers": "strict",
          "coloraxis": {
           "colorbar": {
            "outlinewidth": 0,
            "ticks": ""
           }
          },
          "colorscale": {
           "diverging": [
            [
             0,
             "#8e0152"
            ],
            [
             0.1,
             "#c51b7d"
            ],
            [
             0.2,
             "#de77ae"
            ],
            [
             0.3,
             "#f1b6da"
            ],
            [
             0.4,
             "#fde0ef"
            ],
            [
             0.5,
             "#f7f7f7"
            ],
            [
             0.6,
             "#e6f5d0"
            ],
            [
             0.7,
             "#b8e186"
            ],
            [
             0.8,
             "#7fbc41"
            ],
            [
             0.9,
             "#4d9221"
            ],
            [
             1,
             "#276419"
            ]
           ],
           "sequential": [
            [
             0,
             "#0d0887"
            ],
            [
             0.1111111111111111,
             "#46039f"
            ],
            [
             0.2222222222222222,
             "#7201a8"
            ],
            [
             0.3333333333333333,
             "#9c179e"
            ],
            [
             0.4444444444444444,
             "#bd3786"
            ],
            [
             0.5555555555555556,
             "#d8576b"
            ],
            [
             0.6666666666666666,
             "#ed7953"
            ],
            [
             0.7777777777777778,
             "#fb9f3a"
            ],
            [
             0.8888888888888888,
             "#fdca26"
            ],
            [
             1,
             "#f0f921"
            ]
           ],
           "sequentialminus": [
            [
             0,
             "#0d0887"
            ],
            [
             0.1111111111111111,
             "#46039f"
            ],
            [
             0.2222222222222222,
             "#7201a8"
            ],
            [
             0.3333333333333333,
             "#9c179e"
            ],
            [
             0.4444444444444444,
             "#bd3786"
            ],
            [
             0.5555555555555556,
             "#d8576b"
            ],
            [
             0.6666666666666666,
             "#ed7953"
            ],
            [
             0.7777777777777778,
             "#fb9f3a"
            ],
            [
             0.8888888888888888,
             "#fdca26"
            ],
            [
             1,
             "#f0f921"
            ]
           ]
          },
          "colorway": [
           "#636efa",
           "#EF553B",
           "#00cc96",
           "#ab63fa",
           "#FFA15A",
           "#19d3f3",
           "#FF6692",
           "#B6E880",
           "#FF97FF",
           "#FECB52"
          ],
          "font": {
           "color": "#2a3f5f"
          },
          "geo": {
           "bgcolor": "white",
           "lakecolor": "white",
           "landcolor": "#E5ECF6",
           "showlakes": true,
           "showland": true,
           "subunitcolor": "white"
          },
          "hoverlabel": {
           "align": "left"
          },
          "hovermode": "closest",
          "mapbox": {
           "style": "light"
          },
          "paper_bgcolor": "white",
          "plot_bgcolor": "#E5ECF6",
          "polar": {
           "angularaxis": {
            "gridcolor": "white",
            "linecolor": "white",
            "ticks": ""
           },
           "bgcolor": "#E5ECF6",
           "radialaxis": {
            "gridcolor": "white",
            "linecolor": "white",
            "ticks": ""
           }
          },
          "scene": {
           "xaxis": {
            "backgroundcolor": "#E5ECF6",
            "gridcolor": "white",
            "gridwidth": 2,
            "linecolor": "white",
            "showbackground": true,
            "ticks": "",
            "zerolinecolor": "white"
           },
           "yaxis": {
            "backgroundcolor": "#E5ECF6",
            "gridcolor": "white",
            "gridwidth": 2,
            "linecolor": "white",
            "showbackground": true,
            "ticks": "",
            "zerolinecolor": "white"
           },
           "zaxis": {
            "backgroundcolor": "#E5ECF6",
            "gridcolor": "white",
            "gridwidth": 2,
            "linecolor": "white",
            "showbackground": true,
            "ticks": "",
            "zerolinecolor": "white"
           }
          },
          "shapedefaults": {
           "line": {
            "color": "#2a3f5f"
           }
          },
          "ternary": {
           "aaxis": {
            "gridcolor": "white",
            "linecolor": "white",
            "ticks": ""
           },
           "baxis": {
            "gridcolor": "white",
            "linecolor": "white",
            "ticks": ""
           },
           "bgcolor": "#E5ECF6",
           "caxis": {
            "gridcolor": "white",
            "linecolor": "white",
            "ticks": ""
           }
          },
          "title": {
           "x": 0.05
          },
          "xaxis": {
           "automargin": true,
           "gridcolor": "white",
           "linecolor": "white",
           "ticks": "",
           "title": {
            "standoff": 15
           },
           "zerolinecolor": "white",
           "zerolinewidth": 2
          },
          "yaxis": {
           "automargin": true,
           "gridcolor": "white",
           "linecolor": "white",
           "ticks": "",
           "title": {
            "standoff": 15
           },
           "zerolinecolor": "white",
           "zerolinewidth": 2
          }
         }
        },
        "title": {
         "text": "3D Scatter Plot with Cluster Centroids"
        },
        "width": 1200
       }
      }
     },
     "metadata": {},
     "output_type": "display_data"
    }
   ],
   "source": [
    "colormap = matplotlib.colormaps['viridis']  # Replace 'viridis' with any other colormap\n",
    "# Define the number of categories\n",
    "number_of_clusters = len(df_with_label['label'].unique())\n",
    "# Extract discrete colors from the colormap based on the number of clusters\n",
    "discrete_colors = [matplotlib.colors.rgb2hex(colormap(i)[:3]) for i in np.linspace(0, 1, number_of_clusters)]\n",
    "\n",
    "# Define the tick values and labels for the colorbar\n",
    "tickvals = list(range(number_of_clusters))\n",
    "ticktext = [f'Cluster {label}' for label in tickvals]\n",
    "\n",
    "cluster_centroids = pipe.named_steps['clustering'].cluster_centers_\n",
    "\n",
    "# defining scatter plot trace\n",
    "trace = go.Scatter3d(\n",
    "    x=df_with_label['pca0'],\n",
    "    y=df_with_label['pca1'],\n",
    "    z=df_with_label['pca2'],\n",
    "    mode='markers',\n",
    "    showlegend=False,\n",
    "    name=None,\n",
    "    marker=dict(\n",
    "        color=df_with_label['label'],  # Color based on the specified column\n",
    "        colorscale=discrete_colors,  # Choose the colorscale\n",
    "        colorbar=dict(title='Cluster', tickvals=tickvals, ticktext=ticktext),\n",
    "        size=5\n",
    "    )\n",
    ")\n",
    "\n",
    "# defining lineplots beginning at each sample to the center of each sample cluster\n",
    "lines = []\n",
    "for cluster_number in range(number_of_clusters):\n",
    "    df_with_label_temp = df_with_label[df_with_label['label']==cluster_number].reset_index()\n",
    "    x_cen, y_cen, z_cen = cluster_centroids[cluster_number]\n",
    "    for i in range(len(df_with_label_temp)):\n",
    "        line = go.Scatter3d(\n",
    "            x=[df_with_label_temp['pca0'][i], x_cen],\n",
    "            y=[df_with_label_temp['pca1'][i], y_cen],\n",
    "            z=[df_with_label_temp['pca2'][i], z_cen],\n",
    "            mode='lines',\n",
    "            showlegend=False,\n",
    "            name=None,\n",
    "            line=dict(\n",
    "                color=discrete_colors[cluster_number],  # setting line color to be the same for each points within the cluster\n",
    "                width=3\n",
    "            )\n",
    "        )\n",
    "        lines.append(line)\n",
    "\n",
    "\n",
    "# Create a layout\n",
    "layout = go.Layout(\n",
    "    width=1200,  # Adjust the width as needed\n",
    "    height=1000,  # Adjust the height as needed\n",
    "    scene=dict(\n",
    "        xaxis=dict(title='pca0'),  # Modify the x-axis label\n",
    "        yaxis=dict(title='pca1'),  # Modify the y-axis label\n",
    "        zaxis=dict(title='pca2')  # Modify the z-axis label\n",
    "    )\n",
    ")\n",
    "\n",
    "# Create a figure\n",
    "fig = go.Figure(data=[trace] + lines, layout=layout)\n",
    "fig.update_layout(\n",
    "    title=\"3D Scatter Plot with Cluster Centroids\"\n",
    ")\n",
    "# Display the plot\n",
    "fig.show()"
   ]
  },
  {
   "cell_type": "code",
   "execution_count": 39,
   "metadata": {},
   "outputs": [],
   "source": [
    "fig.write_html(\"../reports/3d_scatter_plot_with_cluster_centroids.html\")"
   ]
  },
  {
   "cell_type": "markdown",
   "metadata": {},
   "source": [
    "After inspection, we can see that the 6 clusters are well separated."
   ]
  },
  {
   "cell_type": "code",
   "execution_count": 33,
   "metadata": {},
   "outputs": [
    {
     "data": {
      "text/html": [
       "<div>\n",
       "<style scoped>\n",
       "    .dataframe tbody tr th:only-of-type {\n",
       "        vertical-align: middle;\n",
       "    }\n",
       "\n",
       "    .dataframe tbody tr th {\n",
       "        vertical-align: top;\n",
       "    }\n",
       "\n",
       "    .dataframe thead th {\n",
       "        text-align: right;\n",
       "    }\n",
       "</style>\n",
       "<table border=\"1\" class=\"dataframe\">\n",
       "  <thead>\n",
       "    <tr style=\"text-align: right;\">\n",
       "      <th></th>\n",
       "      <th>Components</th>\n",
       "      <th>Gender</th>\n",
       "      <th>Age</th>\n",
       "      <th>Annual Income (k$)</th>\n",
       "      <th>Spending Score (1-100)</th>\n",
       "      <th>Explained Variance</th>\n",
       "      <th>Explained Variance Ratio</th>\n",
       "    </tr>\n",
       "  </thead>\n",
       "  <tbody>\n",
       "    <tr>\n",
       "      <th>0</th>\n",
       "      <td>pca0</td>\n",
       "      <td>0.726771</td>\n",
       "      <td>-0.060704</td>\n",
       "      <td>-0.680294</td>\n",
       "      <td>0.072936</td>\n",
       "      <td>0.621123</td>\n",
       "      <td>0.365993</td>\n",
       "    </tr>\n",
       "    <tr>\n",
       "      <th>1</th>\n",
       "      <td>pca1</td>\n",
       "      <td>0.037745</td>\n",
       "      <td>0.995290</td>\n",
       "      <td>-0.039925</td>\n",
       "      <td>0.079868</td>\n",
       "      <td>0.518992</td>\n",
       "      <td>0.305813</td>\n",
       "    </tr>\n",
       "    <tr>\n",
       "      <th>2</th>\n",
       "      <td>pca2</td>\n",
       "      <td>-0.683441</td>\n",
       "      <td>-0.003249</td>\n",
       "      <td>-0.729997</td>\n",
       "      <td>-0.001444</td>\n",
       "      <td>0.313100</td>\n",
       "      <td>0.184492</td>\n",
       "    </tr>\n",
       "  </tbody>\n",
       "</table>\n",
       "</div>"
      ],
      "text/plain": [
       "  Components    Gender       Age  Annual Income (k$)  Spending Score (1-100)  \\\n",
       "0       pca0  0.726771 -0.060704           -0.680294                0.072936   \n",
       "1       pca1  0.037745  0.995290           -0.039925                0.079868   \n",
       "2       pca2 -0.683441 -0.003249           -0.729997               -0.001444   \n",
       "\n",
       "   Explained Variance  Explained Variance Ratio  \n",
       "0            0.621123                  0.365993  \n",
       "1            0.518992                  0.305813  \n",
       "2            0.313100                  0.184492  "
      ]
     },
     "execution_count": 33,
     "metadata": {},
     "output_type": "execute_result"
    }
   ],
   "source": [
    "pca_results = pd.DataFrame(pipe.named_steps['processed_features'].named_steps['pca'].components_, columns=df.columns)\n",
    "pca_results['Explained Variance'] = pipe.named_steps['processed_features'].named_steps['pca'].explained_variance_\n",
    "pca_results['Explained Variance Ratio'] = pipe.named_steps['processed_features'].named_steps['pca'].explained_variance_ratio_\n",
    "pca_results.index = [f'pca{i}' for i in range(pipe.named_steps['processed_features'].named_steps['pca'].n_components_)]\n",
    "pca_results = pca_results.reset_index(names='Components')\n",
    "pca_results"
   ]
  },
  {
   "cell_type": "code",
   "execution_count": 34,
   "metadata": {},
   "outputs": [
    {
     "data": {
      "image/png": "[encoded data removed]",
      "text/plain": [
       "<Figure size 1500x500 with 1 Axes>"
      ]
     },
     "metadata": {},
     "output_type": "display_data"
    }
   ],
   "source": [
    "pca_results_pivoted = pca_results.melt(id_vars=['Components'], value_vars=df.columns.tolist(), var_name='Feature', value_name='Weight Associated')\n",
    "\n",
    "fig, ax = plt.subplots(figsize=(15,5))\n",
    "sns.barplot(data=pca_results_pivoted, x='Components', y='Weight Associated', hue='Feature')\n",
    "ax.set(title='PCA Weights of each feature for each component')\n",
    "for container in ax.containers:\n",
    "    ax.bar_label(container, fmt='%.2f')\n",
    "ax.legend(loc='upper right')\n",
    "plt.show()"
   ]
  },
  {
   "cell_type": "markdown",
   "metadata": {},
   "source": [
    "Importance of each feature to the pca components:\n",
    "- pca0: Gender and Annual Income (k$) are the most important features for this component, with small weight for other features. Gender with a positive correlation and Annual Income (k$) with a negative correlation.\n",
    "- pca1: Age is the most important feature alone, while other features have little importance.\n",
    "- pca2: again for component pca2, Gender and Annual Income (k$) are the most important features while the Age and Spending Score (1-100) have no influence at all. But this time both Gender and Annual Income (k$) are negatively correlated to the pca2 component."
   ]
  },
  {
   "cell_type": "code",
   "execution_count": 35,
   "metadata": {},
   "outputs": [
    {
     "data": {
      "text/html": [
       "<div>\n",
       "<style scoped>\n",
       "    .dataframe tbody tr th:only-of-type {\n",
       "        vertical-align: middle;\n",
       "    }\n",
       "\n",
       "    .dataframe tbody tr th {\n",
       "        vertical-align: top;\n",
       "    }\n",
       "\n",
       "    .dataframe thead th {\n",
       "        text-align: right;\n",
       "    }\n",
       "</style>\n",
       "<table border=\"1\" class=\"dataframe\">\n",
       "  <thead>\n",
       "    <tr style=\"text-align: right;\">\n",
       "      <th></th>\n",
       "      <th>Gender</th>\n",
       "      <th>Age</th>\n",
       "      <th>Annual Income (k$)</th>\n",
       "      <th>Spending Score (1-100)</th>\n",
       "      <th>Cluster</th>\n",
       "    </tr>\n",
       "  </thead>\n",
       "  <tbody>\n",
       "    <tr>\n",
       "      <th>0</th>\n",
       "      <td>Male</td>\n",
       "      <td>19</td>\n",
       "      <td>15</td>\n",
       "      <td>39</td>\n",
       "      <td>2</td>\n",
       "    </tr>\n",
       "    <tr>\n",
       "      <th>1</th>\n",
       "      <td>Male</td>\n",
       "      <td>21</td>\n",
       "      <td>15</td>\n",
       "      <td>81</td>\n",
       "      <td>2</td>\n",
       "    </tr>\n",
       "    <tr>\n",
       "      <th>2</th>\n",
       "      <td>Female</td>\n",
       "      <td>20</td>\n",
       "      <td>16</td>\n",
       "      <td>6</td>\n",
       "      <td>5</td>\n",
       "    </tr>\n",
       "    <tr>\n",
       "      <th>3</th>\n",
       "      <td>Female</td>\n",
       "      <td>23</td>\n",
       "      <td>16</td>\n",
       "      <td>77</td>\n",
       "      <td>2</td>\n",
       "    </tr>\n",
       "    <tr>\n",
       "      <th>4</th>\n",
       "      <td>Female</td>\n",
       "      <td>31</td>\n",
       "      <td>17</td>\n",
       "      <td>40</td>\n",
       "      <td>5</td>\n",
       "    </tr>\n",
       "  </tbody>\n",
       "</table>\n",
       "</div>"
      ],
      "text/plain": [
       "   Gender  Age  Annual Income (k$)  Spending Score (1-100)  Cluster\n",
       "0    Male   19                  15                      39        2\n",
       "1    Male   21                  15                      81        2\n",
       "2  Female   20                  16                       6        5\n",
       "3  Female   23                  16                      77        2\n",
       "4  Female   31                  17                      40        5"
      ]
     },
     "execution_count": 35,
     "metadata": {},
     "output_type": "execute_result"
    }
   ],
   "source": [
    "df['Cluster'] = pipe.named_steps['clustering'].labels_\n",
    "df.head()"
   ]
  },
  {
   "cell_type": "code",
   "execution_count": 41,
   "metadata": {},
   "outputs": [
    {
     "data": {
      "image/png": "[encoded data removed]",
      "text/plain": [
       "<Figure size 1600x500 with 3 Axes>"
      ]
     },
     "metadata": {},
     "output_type": "display_data"
    }
   ],
   "source": [
    "fig, axs = plt.subplots(ncols=3, figsize=(16,5))\n",
    "\n",
    "for ax, col in zip(axs, df.select_dtypes('number')):\n",
    "    sns.boxplot(data=df, x='Cluster', y=col, hue='Gender', ax=ax)\n",
    "    ax.set_title(f'{col} x Cluster')\n",
    "\n",
    "plt.show()"
   ]
  },
  {
   "cell_type": "markdown",
   "metadata": {},
   "source": [
    "Defining personas: \n",
    "- Cluster 0: elder, average income, average spending score\n",
    "- Cluster 1: young, average income, average spending score\n",
    "- Cluster 2: young, small income, high spending score\n",
    "- Cluster 3: middle age (around 40~45, for mens a bigger variation), high income, small spending score\n",
    "- Cluster 4: middle age (around 30), high income, high spending score\n",
    "- Cluster 5: mostly elder men (middle age female with some variation), small income, small spending score\n"
   ]
  },
  {
   "cell_type": "code",
   "execution_count": 37,
   "metadata": {},
   "outputs": [
    {
     "data": {
      "text/plain": [
       "['../models/pipeline_model_pca.pkl']"
      ]
     },
     "execution_count": 37,
     "metadata": {},
     "output_type": "execute_result"
    }
   ],
   "source": [
    "# saving the pipeline model\n",
    "joblib.dump(pipe, \"../models/pipeline_model_pca.pkl\")"
   ]
  }
 ],
 "metadata": {
  "kernelspec": {
   "display_name": ".mall_customer",
   "language": "python",
   "name": "python3"
  },
  "language_info": {
   "codemirror_mode": {
    "name": "ipython",
    "version": 3
   },
   "file_extension": ".py",
   "mimetype": "text/x-python",
   "name": "python",
   "nbconvert_exporter": "python",
   "pygments_lexer": "ipython3",
   "version": "3.12.3"
  }
 },
 "nbformat": 4,
 "nbformat_minor": 2
}
